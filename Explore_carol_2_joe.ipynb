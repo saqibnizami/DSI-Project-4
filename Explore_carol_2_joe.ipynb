{
 "cells": [
  {
   "cell_type": "code",
   "execution_count": 3,
   "metadata": {},
   "outputs": [],
   "source": [
    "import requests\n",
    "import json\n",
    "import time\n",
    "import pandas as pd\n",
    "import numpy as np\n",
    "from sklearn.feature_extraction.text import CountVectorizer, HashingVectorizer, TfidfVectorizer\n",
    "from sklearn.linear_model import Ridge, Lasso, ElasticNet, LinearRegression, RidgeCV, LassoCV, ElasticNetCV\n",
    "from sklearn.model_selection import train_test_split, KFold, cross_val_score, GridSearchCV\n",
    "from sklearn.ensemble import AdaBoostClassifier, GradientBoostingClassifier, VotingClassifier\n",
    "from sklearn.linear_model import LogisticRegression\n",
    "from sklearn.tree import DecisionTreeClassifier\n",
    "from sklearn.ensemble import BaggingClassifier, RandomForestClassifier, ExtraTreesClassifier\n",
    "from sklearn import svm\n",
    "from sklearn.neighbors import KNeighborsClassifier\n",
    "from sklearn.feature_selection import RFE, SelectKBest, f_regression\n",
    "from sklearn.preprocessing import PolynomialFeatures, StandardScaler\n",
    "from sklearn.pipeline import Pipeline\n",
    "from matplotlib import pyplot as plt\n",
    "from sklearn.metrics import confusion_matrix, roc_auc_score, auc, roc_curve\n",
    "from sklearn.naive_bayes import MultinomialNB\n",
    "import numpy as np\n",
    "from scipy import stats\n",
    "import seaborn as sns\n",
    "import tensorflow as tf\n",
    "from sklearn import metrics\n",
    "from datetime import datetime\n",
    "\n",
    "%config InlineBackend.figure_format = 'retina'\n",
    "%matplotlib inline"
   ]
  },
  {
   "cell_type": "code",
   "execution_count": 4,
   "metadata": {},
   "outputs": [],
   "source": [
    "df = pd.read_csv('train.csv')\n",
    "weather = pd.read_csv('weather.csv')\n",
    "spray = pd.read_csv('spray.csv')\n",
    "test = pd.read_csv('test.csv')"
   ]
  },
  {
   "cell_type": "code",
   "execution_count": 5,
   "metadata": {},
   "outputs": [],
   "source": [
    "pd.set_option('display.max_rows', 500)\n",
    "pd.set_option('display.max_columns', 500)"
   ]
  },
  {
   "cell_type": "code",
   "execution_count": 6,
   "metadata": {
    "scrolled": true
   },
   "outputs": [
    {
     "name": "stdout",
     "output_type": "stream",
     "text": [
      "<class 'pandas.core.frame.DataFrame'>\n",
      "RangeIndex: 10506 entries, 0 to 10505\n",
      "Data columns (total 12 columns):\n",
      "Date                      10506 non-null object\n",
      "Address                   10506 non-null object\n",
      "Species                   10506 non-null object\n",
      "Block                     10506 non-null int64\n",
      "Street                    10506 non-null object\n",
      "Trap                      10506 non-null object\n",
      "AddressNumberAndStreet    10506 non-null object\n",
      "Latitude                  10506 non-null float64\n",
      "Longitude                 10506 non-null float64\n",
      "AddressAccuracy           10506 non-null int64\n",
      "NumMosquitos              10506 non-null int64\n",
      "WnvPresent                10506 non-null int64\n",
      "dtypes: float64(2), int64(4), object(6)\n",
      "memory usage: 985.0+ KB\n"
     ]
    }
   ],
   "source": [
    "df.info()"
   ]
  },
  {
   "cell_type": "code",
   "execution_count": 7,
   "metadata": {
    "scrolled": false
   },
   "outputs": [
    {
     "name": "stdout",
     "output_type": "stream",
     "text": [
      "<class 'pandas.core.frame.DataFrame'>\n",
      "RangeIndex: 116293 entries, 0 to 116292\n",
      "Data columns (total 11 columns):\n",
      "Id                        116293 non-null int64\n",
      "Date                      116293 non-null object\n",
      "Address                   116293 non-null object\n",
      "Species                   116293 non-null object\n",
      "Block                     116293 non-null int64\n",
      "Street                    116293 non-null object\n",
      "Trap                      116293 non-null object\n",
      "AddressNumberAndStreet    116293 non-null object\n",
      "Latitude                  116293 non-null float64\n",
      "Longitude                 116293 non-null float64\n",
      "AddressAccuracy           116293 non-null int64\n",
      "dtypes: float64(2), int64(3), object(6)\n",
      "memory usage: 9.8+ MB\n"
     ]
    }
   ],
   "source": [
    "test.info()"
   ]
  },
  {
   "cell_type": "code",
   "execution_count": 8,
   "metadata": {},
   "outputs": [],
   "source": [
    "def clean_train_data(df):\n",
    "    \n",
    "    # map df dataset with weather dataset\n",
    "    mask3 = np.power((df['Latitude']-41.995),2)+ np.power((df['Longitude']-(-87.933)),2) <= \\\n",
    "            np.power((df['Latitude']-41.786),2)+ np.power((df['Longitude']-(-87.752)),2)\n",
    "    mask4 = np.power((df['Latitude']-41.995),2)+ np.power((df['Longitude']-(-87.933)),2) > \\\n",
    "            np.power((df['Latitude']-41.786),2)+ np.power((df['Longitude']-(-87.752)),2)\n",
    "    df.loc[mask3,'weather_station'] = 1\n",
    "    df.loc[mask4,'weather_station'] = 2\n",
    "    df_weather = df.join(weather.set_index(['Date','Station']), on=(['Date','weather_station']), how='left')\n",
    "    \n",
    "    # map df_weather dataset with spray dataset\n",
    "    date_format = \"%Y-%m-%d\"\n",
    "    date_formated_df = []\n",
    "    date_formated_spray = []\n",
    "    for i in df_weather['Date']:\n",
    "        date_formated_df.append(datetime.strptime(i, date_format))\n",
    "    for i in spray['Date']:\n",
    "        date_formated_spray.append(datetime.strptime(i, date_format))\n",
    "    date_formated_spray = set(date_formated_spray)\n",
    "    date_formated_spray = list(date_formated_spray)\n",
    "    days_after_spray = []\n",
    "    for i in date_formated_df:\n",
    "        delta = []\n",
    "        for n in date_formated_spray:\n",
    "            if (i - n).days > 0:\n",
    "                delta.append((i - n).days)\n",
    "        if len(delta) != 0:\n",
    "            days = np.min(delta)\n",
    "        else:\n",
    "            days = 0\n",
    "        days_after_spray.append(days)\n",
    "    df_weather['days_after_spray'] = days_after_spray\n",
    "    \n",
    "    # clean up the total dataset \n",
    "    df_total = df_weather\n",
    "    \n",
    "    #create ordinal date column\n",
    "    df_total['Date'] = pd.to_datetime(df_total['Date'])\n",
    "    df_total['ordinal_date'] = df_total['Date'].map(lambda x: x.toordinal())\n",
    "    \n",
    "    ## drop useless columns\n",
    "    ## different for train and test dataset because test data doesn't include 'NumMosquitos' column\n",
    "    ## and test data has \"Id\" column that need to be dropped\n",
    "    \n",
    "    df_total = df_total.drop(['Date','Address','Block','Street','Trap','AddressNumberAndStreet',\\\n",
    "              'AddressAccuracy','weather_station','Depart','CodeSum','Depth',\\\n",
    "              'Water1','SnowFall', 'Sunrise', 'Sunset'],axis=1)\n",
    "              # NumMosquitos and CodeSum may still helpful (test data doesn't include 'NumMosquitos' column)\n",
    "              #**changed this to keep NumMosquitos\n",
    "    \n",
    "    ## deal with the missing value of the useful columns\n",
    "    mask5 = (df_total.PrecipTotal == '  T')| (df_total.PrecipTotal =='M')\n",
    "    mask6 = df_total.WetBulb == 'M'\n",
    "    mask7 = df_total.StnPressure == 'M'\n",
    "    df_total.loc[mask5,'PrecipTotal'] = 0.00\n",
    "    df_total.loc[mask6,'WetBulb'] = round((df_total[df_total.WetBulb!='M']['WetBulb']).astype('int').mean())\n",
    "    df_total.loc[mask7,'StnPressure'] = round((df_total[df_total.StnPressure!='M']['StnPressure']).astype('float').mean(),2)\n",
    "    \n",
    "    ## change the datatype to correct one\n",
    "    df_total[['Tavg','WetBulb','Heat','Cool']] = df_total[['Tavg','WetBulb','Heat','Cool']].astype(int)\n",
    "    df_total[['PrecipTotal','StnPressure','SeaLevel','AvgSpeed']] = \\\n",
    "    df_total[['PrecipTotal','StnPressure','SeaLevel','AvgSpeed']].astype(float)\n",
    "    \n",
    "    #computer rolling averages \n",
    "    for i in [3,5,10,14,21]: #set intervals for rolling average calculation\n",
    "        for j in ['Tmax', 'Tmin', 'Tavg', 'DewPoint', 'WetBulb', 'Heat', 'Cool',    #columns to compute rolling averages for\n",
    "                  'PrecipTotal', 'StnPressure', 'SeaLevel','ResultSpeed', 'ResultDir', 'AvgSpeed']:\n",
    "            df_total[j + str(i)] = df_total[j].rolling(window=i, min_periods=int(i/5)).mean() #create column with interval for each computation\n",
    "                                                                                #min_periods allows for computing these and not getting NaN values\n",
    "                                                                                #for reasonable amount of missing data\n",
    "    \n",
    "    #fill na's\n",
    "    df_total.fillna(method='backfill', inplace=True)\n",
    "    \n",
    "    ## dummy the object variable\n",
    "    df_total = pd.get_dummies(df_total,drop_first=True,columns=['Species'])\n",
    "    \n",
    "    # return cleaned dataframe\n",
    "\n",
    "    return df_total"
   ]
  },
  {
   "cell_type": "code",
   "execution_count": 9,
   "metadata": {},
   "outputs": [],
   "source": [
    "def clean_test_data(df):\n",
    "    \n",
    "    # map df dataset with weather dataset\n",
    "    mask3 = np.power((df['Latitude']-41.995),2)+ np.power((df['Longitude']-(-87.933)),2) <= \\\n",
    "            np.power((df['Latitude']-41.786),2)+ np.power((df['Longitude']-(-87.752)),2)\n",
    "    mask4 = np.power((df['Latitude']-41.995),2)+ np.power((df['Longitude']-(-87.933)),2) > \\\n",
    "            np.power((df['Latitude']-41.786),2)+ np.power((df['Longitude']-(-87.752)),2)\n",
    "    df.loc[mask3,'weather_station'] = 1\n",
    "    df.loc[mask4,'weather_station'] = 2\n",
    "    df_weather = df.join(weather.set_index(['Date','Station']), on=(['Date','weather_station']), how='left')\n",
    "\n",
    "    # map df_weather dataset with spray dataset\n",
    "    date_format = \"%Y-%m-%d\"\n",
    "    date_formated_df = []\n",
    "    date_formated_spray = []\n",
    "    for i in df_weather['Date']:\n",
    "        date_formated_df.append(datetime.strptime(i, date_format))\n",
    "    for i in spray['Date']:\n",
    "        date_formated_spray.append(datetime.strptime(i, date_format))\n",
    "    date_formated_spray = set(date_formated_spray)\n",
    "    date_formated_spray = list(date_formated_spray)\n",
    "    days_after_spray = []\n",
    "    for i in date_formated_df:\n",
    "        delta = []\n",
    "        for n in date_formated_spray:\n",
    "            if (i - n).days > 0:\n",
    "                delta.append((i - n).days)\n",
    "        if len(delta) != 0:\n",
    "            days = np.min(delta)\n",
    "        else:\n",
    "            days = 0\n",
    "        days_after_spray.append(days)\n",
    "    df_weather['days_after_spray'] = days_after_spray\n",
    "    \n",
    "    # clean up the total dataset \n",
    "    df_total = df_weather\n",
    "    \n",
    "    #create ordinal date column\n",
    "    df_total['Date'] = pd.to_datetime(df_total['Date'])\n",
    "    df_total['ordinal_date'] = df_total['Date'].map(lambda x: x.toordinal())\n",
    "    \n",
    "    ## drop useless columns\n",
    "    ## different for train and test dataset because test data doesn't include 'NumMosquitos' column\n",
    "    ## and test data has \"Id\" column that need to be dropped\n",
    "    \n",
    "    ### for train dataset\n",
    "#     df_total = df_total.drop(['Date','Address','Block','Street','Trap','AddressNumberAndStreet',\\\n",
    "#               'AddressAccuracy','weather_station','Depart','CodeSum','Depth',\\\n",
    "#               'Water1','SnowFall','Sunrise','Sunset','NumMosquitos'],axis=1)\n",
    "                 \n",
    "                 # NumMosquitos and CodeSum may still helpful (test data doesn't include 'NumMosquitos' column)\n",
    "    \n",
    "    ### for test dataset\n",
    "    df_total = df_total.drop(['Id','Date','Address','Block','Street','Trap','AddressNumberAndStreet',\\\n",
    "               'AddressAccuracy','weather_station','Depart','CodeSum','Depth',\\\n",
    "               'Water1','SnowFall','Sunrise','Sunset'],axis=1)\n",
    "    \n",
    "    \n",
    "    ## deal with the missing value of the useful columns\n",
    "    mask5 = (df_total.PrecipTotal == '  T')| (df_total.PrecipTotal =='M')\n",
    "    mask6 = df_total.WetBulb == 'M'\n",
    "    mask7 = df_total.StnPressure == 'M'\n",
    "    df_total.loc[mask5,'PrecipTotal'] = 0.00\n",
    "    df_total.loc[mask6,'WetBulb'] = round((df_total[df_total.WetBulb!='M']['WetBulb']).astype('int').mean())\n",
    "    df_total.loc[mask7,'StnPressure'] = round((df_total[df_total.StnPressure!='M']['StnPressure']).astype('float').mean(),2)\n",
    "    \n",
    "    ## change the datatype to correct one\n",
    "    df_total[['Tavg','WetBulb','Heat','Cool']] = df_total[['Tavg','WetBulb','Heat','Cool']].astype(int)\n",
    "    df_total[['PrecipTotal','StnPressure','SeaLevel','AvgSpeed']] = \\\n",
    "    df_total[['PrecipTotal','StnPressure','SeaLevel','AvgSpeed']].astype(float)\n",
    "    \n",
    "    #computer rolling averages \n",
    "    for i in [3,5,10,14,21]: #set intervals for rolling average calculation\n",
    "        for j in ['Tmax', 'Tmin', 'Tavg', 'DewPoint', 'WetBulb', 'Heat', 'Cool',    #columns to compute rolling averages for\n",
    "                  'PrecipTotal', 'StnPressure', 'SeaLevel','ResultSpeed', 'ResultDir', 'AvgSpeed']:\n",
    "            df_total[j + str(i)] = df_total[j].rolling(window=i, min_periods=int(i/5)).mean() #create column with interval for each computation\n",
    "                                                                                #min_periods allows for computing these and not getting NaN values\n",
    "                                                                                #for reasonable amount of missing data\n",
    "    #fill na's\n",
    "    df_total.fillna(method='backfill', inplace=True)\n",
    "    \n",
    "    ## dummy the object variable\n",
    "    df_total = pd.get_dummies(df_total,drop_first=True,columns=['Species'])\n",
    "    \n",
    "    ## drop one of the dummy variable 'Species_UNSPECIFIED CULEX' that train dataset doesn't have\n",
    "    df_total = df_total.drop(['Species_UNSPECIFIED CULEX'],axis=1)\n",
    "    \n",
    "    # create polynomial features\n",
    "    \n",
    "    ## for train dataset\n",
    "#     y = df_total['WnvPresent']\n",
    "#     X = df_total.drop('WnvPresent',axis=1)\n",
    "#     X_train, X_test, y_train, y_test = train_test_split(X, y, stratify=y, random_state=42, test_size=0.15)\n",
    "#     poly = PolynomialFeatures(include_bias=False,degree=2)\n",
    "#     X_train_poly = poly.fit_transform(X_train)\n",
    "#     X_test_poly = poly.transform(X_test)\n",
    "#     X_train=pd.DataFrame(X_train_poly,columns=poly.get_feature_names(X_train.columns))\n",
    "#     X_test=pd.DataFrame(X_test_poly,columns=poly.get_feature_names(X_test.columns))\n",
    "    \n",
    "    ## for test dataset\n",
    "#     poly = PolynomialFeatures(include_bias=False,degree=2)\n",
    "#     df_total_poly = poly.fit_transform(df_total)\n",
    "#     df_total=pd.DataFrame(df_total_poly,columns=poly.get_feature_names(df_total.columns))\n",
    "    \n",
    "    # return cleaned dataframe\n",
    "    \n",
    "    ## for train dataset, return X_train and X_test data\n",
    "#     return X_train, X_test\n",
    "    \n",
    "    ## for test dataset, return df_total\n",
    "    return df_total"
   ]
  },
  {
   "cell_type": "code",
   "execution_count": 10,
   "metadata": {},
   "outputs": [
    {
     "data": {
      "text/plain": [
       "(116293, 88)"
      ]
     },
     "execution_count": 10,
     "metadata": {},
     "output_type": "execute_result"
    }
   ],
   "source": [
    "test_clean = clean_test_data(test)\n",
    "test_clean.shape"
   ]
  },
  {
   "cell_type": "code",
   "execution_count": 11,
   "metadata": {},
   "outputs": [
    {
     "data": {
      "text/plain": [
       "(10506, 90)"
      ]
     },
     "execution_count": 11,
     "metadata": {},
     "output_type": "execute_result"
    }
   ],
   "source": [
    "train_clean = clean_train_data(df)\n",
    "train_clean.shape"
   ]
  },
  {
   "cell_type": "code",
   "execution_count": 12,
   "metadata": {
    "scrolled": false
   },
   "outputs": [
    {
     "data": {
      "text/plain": [
       "0    0.947554\n",
       "1    0.052446\n",
       "Name: WnvPresent, dtype: float64"
      ]
     },
     "execution_count": 12,
     "metadata": {},
     "output_type": "execute_result"
    }
   ],
   "source": [
    "train_clean['WnvPresent'].value_counts(normalize=True)"
   ]
  },
  {
   "cell_type": "code",
   "execution_count": 13,
   "metadata": {},
   "outputs": [],
   "source": [
    "# train_clean.info()"
   ]
  },
  {
   "cell_type": "markdown",
   "metadata": {},
   "source": [
    "### upsample the dataset"
   ]
  },
  {
   "cell_type": "code",
   "execution_count": 14,
   "metadata": {},
   "outputs": [
    {
     "data": {
      "text/plain": [
       "1    9955\n",
       "0    9955\n",
       "Name: WnvPresent, dtype: int64"
      ]
     },
     "execution_count": 14,
     "metadata": {},
     "output_type": "execute_result"
    }
   ],
   "source": [
    "# upsample the minority df_total['WnvPresent'] == 1\n",
    "from sklearn.utils import resample\n",
    "\n",
    "## Separate majority and minority classes\n",
    "df_majority = train_clean[train_clean.WnvPresent==0]\n",
    "df_minority = train_clean[train_clean.WnvPresent==1]\n",
    " \n",
    "## Upsample minority class\n",
    "df_minority_upsampled = resample(df_minority, \n",
    "                                 replace=True,     # sample with replacement\n",
    "                                 n_samples=9955,    # to match majority class\n",
    "                                 random_state=42) # reproducible results\n",
    " \n",
    "# Combine majority class with upsampled minority class\n",
    "df_upsampled = pd.concat([df_majority, df_minority_upsampled])\n",
    " \n",
    "# Display new class counts\n",
    "df_upsampled.WnvPresent.value_counts()"
   ]
  },
  {
   "cell_type": "code",
   "execution_count": 15,
   "metadata": {},
   "outputs": [],
   "source": [
    "# sns.pairplot(df_upsampled)"
   ]
  },
  {
   "cell_type": "code",
   "execution_count": 16,
   "metadata": {
    "scrolled": true
   },
   "outputs": [],
   "source": [
    "# df_upsampled.info()"
   ]
  },
  {
   "cell_type": "code",
   "execution_count": 17,
   "metadata": {},
   "outputs": [],
   "source": [
    "# plt.figure(figsize=(5,10))\n",
    "# sns.heatmap(df_upsampled.corr()[['WnvPresent']],annot=True,cmap='bwr')\n",
    "# plt.tight_layout()"
   ]
  },
  {
   "cell_type": "markdown",
   "metadata": {},
   "source": [
    "### build the model"
   ]
  },
  {
   "cell_type": "code",
   "execution_count": 18,
   "metadata": {},
   "outputs": [],
   "source": [
    "y = df_upsampled['WnvPresent']\n",
    "X = df_upsampled.drop('WnvPresent',axis=1)\n",
    "X_train, X_test, y_train, y_test = train_test_split(X, y, random_state=42, stratify=y, test_size=0.15)"
   ]
  },
  {
   "cell_type": "code",
   "execution_count": 19,
   "metadata": {},
   "outputs": [
    {
     "name": "stdout",
     "output_type": "stream",
     "text": [
      "best cv score 0.9654907522306919\n",
      "best paramas {'rf__max_depth': None, 'rf__max_features': 'log2', 'rf__n_estimators': 10}\n",
      "test score 0.9755607633076665\n"
     ]
    }
   ],
   "source": [
    "# random forest is OK\n",
    "pip1 = Pipeline([\n",
    "    ('rf', RandomForestClassifier(random_state=42))\n",
    "])\n",
    "params1 = {\n",
    "    'rf__n_estimators':[5,10,20],\n",
    "    'rf__max_features': [\"auto\",\"sqrt\",\"log2\"],\n",
    "    'rf__max_depth': [None,10,20]\n",
    "}\n",
    "gs1 = GridSearchCV(pip1,param_grid=params1)\n",
    "gs1.fit(X_train,y_train)\n",
    "print('best cv score', gs1.best_score_)\n",
    "print('best paramas', gs1.best_params_)\n",
    "print('test score', gs1.score(X_test, y_test))"
   ]
  },
  {
   "cell_type": "code",
   "execution_count": 20,
   "metadata": {},
   "outputs": [
    {
     "data": {
      "text/plain": [
       "array([[1430,   64],\n",
       "       [   9, 1484]])"
      ]
     },
     "execution_count": 20,
     "metadata": {},
     "output_type": "execute_result"
    }
   ],
   "source": [
    "# create a confusion matrix\n",
    "y_hat = gs1.predict(X_test)\n",
    "confusion_matrix(y_test,y_hat)"
   ]
  },
  {
   "cell_type": "code",
   "execution_count": 21,
   "metadata": {},
   "outputs": [
    {
     "data": {
      "image/png": "[encoded data removed]",
      "text/plain": [
       "<matplotlib.figure.Figure at 0x1a1da44320>"
      ]
     },
     "metadata": {
      "image/png": {
       "height": 560,
       "width": 680
      }
     },
     "output_type": "display_data"
    }
   ],
   "source": [
    "y_pred = gs1.predict(X_test)\n",
    "FPR, TPR, threshold = roc_curve(y_test, y_pred)\n",
    "ROC_AUC = auc(FPR, TPR)\n",
    "\n",
    "plt.figure(figsize=[11,9])\n",
    "plt.plot(FPR, TPR, label='ROC curve (area = %0.2f)' % ROC_AUC, linewidth=4)\n",
    "plt.plot([0, 1], [0, 1], 'k--', linewidth=4)\n",
    "plt.xlim([0.0, 1.0])\n",
    "plt.ylim([0.0, 1.0])\n",
    "plt.xlabel('False Positive Rate (Recall)', fontsize=18)\n",
    "plt.ylabel('True Positive Rate (Precision)', fontsize=18)\n",
    "plt.title('LogReg for \"CKD\"', fontsize=18)\n",
    "plt.legend(loc=\"lower right\")\n",
    "plt.show()"
   ]
  },
  {
   "cell_type": "code",
   "execution_count": null,
   "metadata": {
    "scrolled": true
   },
   "outputs": [],
   "source": [
    "# svm\n",
    "gamma_range = [0.001]\n",
    "C_range = [1]\n",
    "kernel_range = ['rbf', 'sigmoid', 'linear', 'poly']\n",
    "\n",
    "params3 = dict(gamma=gamma_range, kernel=kernel_range, C=C_range)\n",
    "\n",
    "clf = svm.SVC()\n",
    "gs3 = GridSearchCV(clf, params3, scoring=\"accuracy\", verbose=0)\n",
    "gs3.fit(X_train,y_train)"
   ]
  },
  {
   "cell_type": "code",
   "execution_count": null,
   "metadata": {},
   "outputs": [],
   "source": [
    "print('best cv score', gs3.best_score_)\n",
    "print('best paramas', gs3.best_params_)\n",
    "print('test score', gs3.score(X_test, y_test))"
   ]
  },
  {
   "cell_type": "code",
   "execution_count": null,
   "metadata": {},
   "outputs": [],
   "source": [
    "# svm using unbalanced sample and use class_weight = 'WnvPresent' to penalize mistakes on the minority class \n",
    "# by an amount proportional to how under-represented it is.\n",
    "y = train_clean['WnvPresent']\n",
    "X = train_clean.drop('WnvPresent',axis=1)\n",
    "X_train, X_test, y_train, y_test = train_test_split(X, y, random_state=42, test_size=0.15)\n",
    "\n",
    "gamma_range = [0.001]\n",
    "C_range = [1]\n",
    "kernel_range = ['linear']\n",
    "class_weight=['balanced']\n",
    "\n",
    "params4 = dict(gamma=gamma_range, kernel=kernel_range, C=C_range, class_weight=class_weight)\n",
    "\n",
    "clf = svm.SVC()\n",
    "gs4 = GridSearchCV(clf, params4, scoring=\"accuracy\", verbose=0)\n",
    "gs4.fit(X_train,y_train)\n",
    "\n",
    "print('best cv score', gs4.best_score_)\n",
    "print('best paramas', gs4.best_params_)\n",
    "print('test score', gs4.score(X_test, y_test))"
   ]
  },
  {
   "cell_type": "code",
   "execution_count": null,
   "metadata": {},
   "outputs": [],
   "source": [
    "# logistic regression is bad?\n",
    "pip2 = Pipeline([\n",
    "    ('ss', StandardScaler()), \n",
    "    ('lr', LogisticRegression())\n",
    "])\n",
    "params2 = {\n",
    "    'lr__penalty':['l1','l2'],\n",
    "    'lr__C':[0.1,0.5,0.9]\n",
    "}\n",
    "gs2 = GridSearchCV(pip2,param_grid=params2)\n",
    "gs2.fit(X_train,y_train)\n",
    "print('best cv score', gs2.best_score_)\n",
    "print('best paramas', gs2.best_params_)\n",
    "print('test score', gs2.score(X_test, y_test))"
   ]
  },
  {
   "cell_type": "code",
   "execution_count": null,
   "metadata": {},
   "outputs": [],
   "source": [
    "# create a confusion matrix\n",
    "y_hat = gs2.predict(X_test)\n",
    "confusion_matrix(y_test,y_hat)"
   ]
  },
  {
   "cell_type": "code",
   "execution_count": null,
   "metadata": {},
   "outputs": [],
   "source": [
    "# FFNN using Tensorflow\n",
    "y = df_upsampled['WnvPresent']\n",
    "X = df_upsampled.drop('WnvPresent',axis=1)\n",
    "X_train, X_test, y_train, y_test = train_test_split(X, y, random_state=42, test_size=0.15)\n",
    "ss = StandardScaler()\n",
    "X_train = ss.fit_transform(X_train)\n",
    "X_test = ss.transform(X_test)"
   ]
  },
  {
   "cell_type": "code",
   "execution_count": null,
   "metadata": {},
   "outputs": [],
   "source": [
    "y_train = y_train.reshape(-1, 1)\n",
    "y_test = y_test.reshape(-1, 1)"
   ]
  },
  {
   "cell_type": "code",
   "execution_count": null,
   "metadata": {},
   "outputs": [],
   "source": [
    "X_train.shape"
   ]
  },
  {
   "cell_type": "code",
   "execution_count": null,
   "metadata": {},
   "outputs": [],
   "source": [
    "tf.reset_default_graph()\n",
    "\n",
    "X = tf.placeholder(dtype=tf.float32, shape=(None,X_train.shape[1]), name='X')\n",
    "y = tf.placeholder(dtype=tf.float32, shape=(None, 1), name='y')\n",
    "\n",
    "h1 = tf.layers.dense(X, 20, activation=tf.nn.relu, name='hidden1') # 20 features put into the layer\n",
    "h2 = tf.layers.dense(h1, 20, activation=tf.nn.relu, name='hidden2')\n",
    "h3 = tf.layers.dense(h2, 20, activation=tf.nn.relu, name='hidden3')\n",
    "h4 = tf.layers.dense(h3, 20, activation=tf.nn.relu, name='hidden4')\n",
    "\n",
    "y_hat = tf.layers.dense(h4, 1, activation=tf.nn.sigmoid, name='y_hat') # this is a binary classification problem\n",
    "\n",
    "loss = tf.losses.log_loss(y, y_hat)\n",
    "optimizer = tf.train.AdamOptimizer(.01) # adam do gradient descent: learning rate is little bit larger\n",
    "training_run = optimizer.minimize(loss)"
   ]
  },
  {
   "cell_type": "code",
   "execution_count": null,
   "metadata": {},
   "outputs": [],
   "source": [
    "saver = tf.train.Saver()"
   ]
  },
  {
   "cell_type": "code",
   "execution_count": null,
   "metadata": {
    "scrolled": true
   },
   "outputs": [],
   "source": [
    "init = tf.global_variables_initializer()\n",
    "train_errs=[]\n",
    "test_errs=[]\n",
    "with tf.Session() as sess:\n",
    "    init.run()\n",
    "    for epoch in range(1000):\n",
    "        sess.run(training_run, feed_dict={X: X_train, y: y_train})\n",
    "        \n",
    "        if epoch % 100 == 0:\n",
    "            train_loss = sess.run(loss, feed_dict={X: X_train, y: y_train})\n",
    "            train_errs.append(train_loss)\n",
    "            test_loss = sess.run(loss, feed_dict={X: X_test, y: y_test})\n",
    "            test_errs.append(test_loss)\n",
    "            print('epoch', epoch, 'Train loss', train_loss, 'Test loss', test_loss)\n",
    "    saver.save(sess, './Classfication.ckpt')"
   ]
  },
  {
   "cell_type": "code",
   "execution_count": null,
   "metadata": {
    "scrolled": true
   },
   "outputs": [],
   "source": [
    "# plot the learning curves\n",
    "plt.plot(train_errs, label = 'Train loss')\n",
    "plt.plot(test_errs, label = 'Test loss')\n",
    "plt.legend()"
   ]
  },
  {
   "cell_type": "code",
   "execution_count": null,
   "metadata": {},
   "outputs": [],
   "source": [
    "with tf.Session() as sess:\n",
    "    saver.restore(sess, './Classfication.ckpt')\n",
    "    pred = sess.run(y_hat, feed_dict={X:X_test}) # run the prediction layer"
   ]
  },
  {
   "cell_type": "code",
   "execution_count": null,
   "metadata": {},
   "outputs": [],
   "source": [
    "classes = (pred > .947).astype(int)\n",
    "metrics.accuracy_score(y_test, classes)"
   ]
  },
  {
   "cell_type": "code",
   "execution_count": null,
   "metadata": {},
   "outputs": [],
   "source": [
    "metrics.confusion_matrix(y_test, classes)"
   ]
  },
  {
   "cell_type": "code",
   "execution_count": null,
   "metadata": {},
   "outputs": [],
   "source": [
    "FPR, TPR, threshold = roc_curve(y_test, pred)\n",
    "ROC_AUC = auc(FPR, TPR)\n",
    "\n",
    "plt.figure(figsize=[11,9])\n",
    "plt.plot(FPR, TPR, label='ROC curve (area = %0.2f)' % ROC_AUC, linewidth=4)\n",
    "plt.plot([0, 1], [0, 1], 'k--', linewidth=4)\n",
    "plt.xlim([0.0, 1.0])\n",
    "plt.ylim([0.0, 1.0])\n",
    "plt.xlabel('False Positive Rate (Recall)', fontsize=18)\n",
    "plt.ylabel('True Positive Rate (Precision)', fontsize=18)\n",
    "plt.title('LogReg for \"CKD\"', fontsize=18)\n",
    "plt.legend(loc=\"lower right\")\n",
    "plt.show()"
   ]
  },
  {
   "cell_type": "markdown",
   "metadata": {},
   "source": [
    "## Clean and Predict test data set"
   ]
  },
  {
   "cell_type": "code",
   "execution_count": null,
   "metadata": {
    "scrolled": true
   },
   "outputs": [],
   "source": [
    "test_clean.shape"
   ]
  },
  {
   "cell_type": "code",
   "execution_count": null,
   "metadata": {},
   "outputs": [],
   "source": [
    "test_pred = gs1.predict(test_clean)"
   ]
  },
  {
   "cell_type": "code",
   "execution_count": null,
   "metadata": {},
   "outputs": [],
   "source": [
    "test_pred.shape"
   ]
  },
  {
   "cell_type": "code",
   "execution_count": null,
   "metadata": {},
   "outputs": [],
   "source": [
    "test_pred = pd.DataFrame(test_pred)"
   ]
  },
  {
   "cell_type": "code",
   "execution_count": null,
   "metadata": {},
   "outputs": [],
   "source": [
    "test_pred['Id'] = [i for i in range(1,116294)]\n",
    "test_pred['WnvPresent'] = test_pred[0]"
   ]
  },
  {
   "cell_type": "code",
   "execution_count": null,
   "metadata": {},
   "outputs": [],
   "source": [
    "test_pred.drop([0],axis=1,inplace=True)"
   ]
  },
  {
   "cell_type": "code",
   "execution_count": null,
   "metadata": {},
   "outputs": [],
   "source": [
    "test_pred.tail()"
   ]
  },
  {
   "cell_type": "code",
   "execution_count": null,
   "metadata": {
    "scrolled": false
   },
   "outputs": [],
   "source": [
    "test_pred['WnvPresent'].value_counts()"
   ]
  },
  {
   "cell_type": "code",
   "execution_count": null,
   "metadata": {},
   "outputs": [],
   "source": [
    "test_pred.to_csv('test_pred_2.csv',index=False)"
   ]
  }
 ],
 "metadata": {
  "kernelspec": {
   "display_name": "Python [default]",
   "language": "python",
   "name": "python3"
  },
  "language_info": {
   "codemirror_mode": {
    "name": "ipython",
    "version": 3
   },
   "file_extension": ".py",
   "mimetype": "text/x-python",
   "name": "python",
   "nbconvert_exporter": "python",
   "pygments_lexer": "ipython3",
   "version": "3.6.4"
  }
 },
 "nbformat": 4,
 "nbformat_minor": 2
}
