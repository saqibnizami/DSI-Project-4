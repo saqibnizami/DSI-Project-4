{
 "cells": [
  {
   "cell_type": "code",
   "execution_count": 1,
   "metadata": {},
   "outputs": [],
   "source": [
    "import requests\n",
    "import json\n",
    "import time\n",
    "import pandas as pd\n",
    "import numpy as np\n",
    "from sklearn.feature_extraction.text import CountVectorizer, HashingVectorizer, TfidfVectorizer\n",
    "from sklearn.linear_model import Ridge, Lasso, ElasticNet, LinearRegression, RidgeCV, LassoCV, ElasticNetCV\n",
    "from sklearn.model_selection import train_test_split, KFold, cross_val_score, GridSearchCV\n",
    "from sklearn.ensemble import AdaBoostClassifier, GradientBoostingClassifier, VotingClassifier\n",
    "from sklearn.linear_model import LogisticRegression\n",
    "from sklearn.tree import DecisionTreeClassifier\n",
    "from sklearn.ensemble import BaggingClassifier, RandomForestClassifier, ExtraTreesClassifier, RandomForestRegressor\n",
    "from sklearn import svm\n",
    "from sklearn.neighbors import KNeighborsClassifier\n",
    "from sklearn.feature_selection import RFE, SelectKBest, f_regression\n",
    "from sklearn.preprocessing import PolynomialFeatures, StandardScaler\n",
    "from sklearn.pipeline import Pipeline, FeatureUnion\n",
    "from matplotlib import pyplot as plt\n",
    "from sklearn.metrics import confusion_matrix, roc_auc_score, auc, roc_curve\n",
    "from sklearn.naive_bayes import MultinomialNB\n",
    "from sklearn.feature_extraction.text import CountVectorizer\n",
    "from sklearn.linear_model import LogisticRegression\n",
    "from sklearn.base import BaseEstimator, TransformerMixin\n",
    "import numpy as np\n",
    "from scipy import stats\n",
    "import seaborn as sns\n",
    "import tensorflow as tf\n",
    "from sklearn import metrics\n",
    "from datetime import datetime\n",
    "import xgboost as xgb\n",
    "import pickle\n",
    "\n",
    "%config InlineBackend.figure_format = 'retina'\n",
    "%matplotlib inline"
   ]
  },
  {
   "cell_type": "code",
   "execution_count": 2,
   "metadata": {},
   "outputs": [],
   "source": [
    "df = pd.read_csv('train.csv')\n",
    "weather = pd.read_csv('weather.csv')\n",
    "spray = pd.read_csv('spray.csv')\n",
    "test = pd.read_csv('test.csv')"
   ]
  },
  {
   "cell_type": "code",
   "execution_count": 3,
   "metadata": {},
   "outputs": [],
   "source": [
    "pd.set_option('display.max_rows', 500)\n",
    "pd.set_option('display.max_columns', 500)"
   ]
  },
  {
   "cell_type": "code",
   "execution_count": 4,
   "metadata": {
    "scrolled": true
   },
   "outputs": [
    {
     "name": "stdout",
     "output_type": "stream",
     "text": [
      "<class 'pandas.core.frame.DataFrame'>\n",
      "RangeIndex: 10506 entries, 0 to 10505\n",
      "Data columns (total 12 columns):\n",
      "Date                      10506 non-null object\n",
      "Address                   10506 non-null object\n",
      "Species                   10506 non-null object\n",
      "Block                     10506 non-null int64\n",
      "Street                    10506 non-null object\n",
      "Trap                      10506 non-null object\n",
      "AddressNumberAndStreet    10506 non-null object\n",
      "Latitude                  10506 non-null float64\n",
      "Longitude                 10506 non-null float64\n",
      "AddressAccuracy           10506 non-null int64\n",
      "NumMosquitos              10506 non-null int64\n",
      "WnvPresent                10506 non-null int64\n",
      "dtypes: float64(2), int64(4), object(6)\n",
      "memory usage: 985.0+ KB\n"
     ]
    }
   ],
   "source": [
    "df.info()"
   ]
  },
  {
   "cell_type": "code",
   "execution_count": 5,
   "metadata": {
    "scrolled": false
   },
   "outputs": [
    {
     "name": "stdout",
     "output_type": "stream",
     "text": [
      "<class 'pandas.core.frame.DataFrame'>\n",
      "RangeIndex: 116293 entries, 0 to 116292\n",
      "Data columns (total 11 columns):\n",
      "Id                        116293 non-null int64\n",
      "Date                      116293 non-null object\n",
      "Address                   116293 non-null object\n",
      "Species                   116293 non-null object\n",
      "Block                     116293 non-null int64\n",
      "Street                    116293 non-null object\n",
      "Trap                      116293 non-null object\n",
      "AddressNumberAndStreet    116293 non-null object\n",
      "Latitude                  116293 non-null float64\n",
      "Longitude                 116293 non-null float64\n",
      "AddressAccuracy           116293 non-null int64\n",
      "dtypes: float64(2), int64(3), object(6)\n",
      "memory usage: 9.8+ MB\n"
     ]
    }
   ],
   "source": [
    "test.info()"
   ]
  },
  {
   "cell_type": "code",
   "execution_count": 6,
   "metadata": {},
   "outputs": [],
   "source": [
    "def clean_train_data(df):\n",
    "    \n",
    "    # map df dataset with weather dataset\n",
    "    mask3 = np.power((df['Latitude']-41.995),2)+ np.power((df['Longitude']-(-87.933)),2) <= \\\n",
    "            np.power((df['Latitude']-41.786),2)+ np.power((df['Longitude']-(-87.752)),2)\n",
    "    mask4 = np.power((df['Latitude']-41.995),2)+ np.power((df['Longitude']-(-87.933)),2) > \\\n",
    "            np.power((df['Latitude']-41.786),2)+ np.power((df['Longitude']-(-87.752)),2)\n",
    "    df.loc[mask3,'weather_station'] = 1\n",
    "    df.loc[mask4,'weather_station'] = 2\n",
    "    df_weather = df.join(weather.set_index(['Date','Station']), on=(['Date','weather_station']), how='left')\n",
    "    \n",
    "    # map df_weather dataset with spray dataset\n",
    "    date_format = \"%Y-%m-%d\"\n",
    "    date_formated_df = []\n",
    "    date_formated_spray = []\n",
    "    for i in df_weather['Date']:\n",
    "        date_formated_df.append(datetime.strptime(i, date_format))\n",
    "    for i in spray['Date']:\n",
    "        date_formated_spray.append(datetime.strptime(i, date_format))\n",
    "    date_formated_spray = set(date_formated_spray)\n",
    "    date_formated_spray = list(date_formated_spray)\n",
    "    days_after_spray = []\n",
    "    for i in date_formated_df:\n",
    "        delta = []\n",
    "        for n in date_formated_spray:\n",
    "            if (i - n).days > 0:\n",
    "                delta.append((i - n).days)\n",
    "        if len(delta) != 0:\n",
    "            days = np.min(delta)\n",
    "        else:\n",
    "            days = 0\n",
    "        days_after_spray.append(days)\n",
    "    df_weather['days_after_spray'] = days_after_spray\n",
    "    \n",
    "    # clean up the total dataset \n",
    "    df_total = df_weather\n",
    "    \n",
    "    #fix NumMosquitos column\n",
    "    df_total['NumMosquitos_sum'] = np.nan #create sum column\n",
    "    #fill sum column with sum of matching rows\n",
    "    df_total['NumMosquitos_sum'].fillna(df_total.groupby(['Date','Trap','Species'])['NumMosquitos'].transform('sum'), inplace=True)\n",
    "    df_total.drop(['NumMosquitos'], axis=1, inplace=True) #drop old column\n",
    "    df_total.drop_duplicates(inplace=True) #drop duplicated rows \n",
    "    df_total.reset_index(inplace=True) #reset index \n",
    "    \n",
    "    #create ordinal date column\n",
    "    df_total['Date'] = pd.to_datetime(df_total['Date'])\n",
    "    df_total['ordinal_date'] = df_total['Date'].map(lambda x: x.toordinal())\n",
    "    \n",
    "    #create month/day for time of year \n",
    "    df_total['month_day'] = df_total['Date'].dt.month + df_total['Date'].map(lambda x: .5 if x.day > 15 else 0)\n",
    "    \n",
    "    ## drop useless columns\n",
    "    ## different for train and test dataset because test data doesn't include 'NumMosquitos' column\n",
    "    ## and test data has \"Id\" column that need to be dropped\n",
    "    \n",
    "    df_total = df_total.drop(['Date','Address','Block','Street','Trap','AddressNumberAndStreet',\\\n",
    "              'AddressAccuracy','weather_station','Depart','CodeSum','Depth',\\\n",
    "              'Water1','SnowFall', 'Sunrise', 'Sunset', 'index'],axis=1)\n",
    "              # NumMosquitos and CodeSum may still helpful (test data doesn't include 'NumMosquitos' column)\n",
    "              #**changed this to keep NumMosquitos\n",
    "    \n",
    "    ## deal with the missing value of the useful columns\n",
    "    mask5 = (df_total.PrecipTotal == '  T')| (df_total.PrecipTotal =='M')\n",
    "    mask6 = df_total.WetBulb == 'M'\n",
    "    mask7 = df_total.StnPressure == 'M'\n",
    "    df_total.loc[mask5,'PrecipTotal'] = 0.00\n",
    "    df_total.loc[mask6,'WetBulb'] = round((df_total[df_total.WetBulb!='M']['WetBulb']).astype('int').mean())\n",
    "    df_total.loc[mask7,'StnPressure'] = round((df_total[df_total.StnPressure!='M']['StnPressure']).astype('float').mean(),2)\n",
    "    \n",
    "    ## change the datatype to correct one\n",
    "    df_total[['Tavg','WetBulb','Heat','Cool']] = df_total[['Tavg','WetBulb','Heat','Cool']].astype(int)\n",
    "    df_total[['PrecipTotal','StnPressure','SeaLevel','AvgSpeed']] = \\\n",
    "    df_total[['PrecipTotal','StnPressure','SeaLevel','AvgSpeed']].astype(float)\n",
    "    \n",
    "    #computer rolling averages \n",
    "    for i in [3,5,10,14,21]: #set intervals for rolling average calculation\n",
    "        for j in ['Tmax', 'Tmin', 'Tavg', 'DewPoint', 'WetBulb', 'Heat', 'Cool',    #columns to compute rolling averages for\n",
    "                  'PrecipTotal', 'StnPressure', 'SeaLevel','ResultSpeed', 'ResultDir', 'AvgSpeed']:\n",
    "            df_total[j + str(i)] = df_total[j].rolling(window=i, min_periods=int(i/5)).mean() #create column with interval for each computation\n",
    "                                                                                #min_periods allows for computing these and not getting NaN values\n",
    "                                                                                #for reasonable amount of missing data\n",
    "    \n",
    "    \n",
    "    #fill na's\n",
    "    df_total.fillna(method='backfill', inplace=True)\n",
    "    \n",
    "    \n",
    "    # return cleaned dataframe\n",
    "\n",
    "    return df_total"
   ]
  },
  {
   "cell_type": "code",
   "execution_count": 7,
   "metadata": {},
   "outputs": [],
   "source": [
    "def clean_test_data(df):\n",
    "    \n",
    "    # map df dataset with weather dataset\n",
    "    mask3 = np.power((df['Latitude']-41.995),2)+ np.power((df['Longitude']-(-87.933)),2) <= \\\n",
    "            np.power((df['Latitude']-41.786),2)+ np.power((df['Longitude']-(-87.752)),2)\n",
    "    mask4 = np.power((df['Latitude']-41.995),2)+ np.power((df['Longitude']-(-87.933)),2) > \\\n",
    "            np.power((df['Latitude']-41.786),2)+ np.power((df['Longitude']-(-87.752)),2)\n",
    "    df.loc[mask3,'weather_station'] = 1\n",
    "    df.loc[mask4,'weather_station'] = 2\n",
    "    df_weather = df.join(weather.set_index(['Date','Station']), on=(['Date','weather_station']), how='left')\n",
    "\n",
    "    # map df_weather dataset with spray dataset\n",
    "    date_format = \"%Y-%m-%d\"\n",
    "    date_formated_df = []\n",
    "    date_formated_spray = []\n",
    "    for i in df_weather['Date']:\n",
    "        date_formated_df.append(datetime.strptime(i, date_format))\n",
    "    for i in spray['Date']:\n",
    "        date_formated_spray.append(datetime.strptime(i, date_format))\n",
    "    date_formated_spray = set(date_formated_spray)\n",
    "    date_formated_spray = list(date_formated_spray)\n",
    "    days_after_spray = []\n",
    "    for i in date_formated_df:\n",
    "        delta = []\n",
    "        for n in date_formated_spray:\n",
    "            if (i - n).days > 0:\n",
    "                delta.append((i - n).days)\n",
    "        if len(delta) != 0:\n",
    "            days = np.min(delta)\n",
    "        else:\n",
    "            days = 0\n",
    "        days_after_spray.append(days)\n",
    "    df_weather['days_after_spray'] = days_after_spray\n",
    "    \n",
    "    # clean up the total dataset \n",
    "    df_total = df_weather\n",
    "    \n",
    "    #create ordinal date column\n",
    "    df_total['Date'] = pd.to_datetime(df_total['Date'])\n",
    "    df_total['ordinal_date'] = df_total['Date'].map(lambda x: x.toordinal())\n",
    "    \n",
    "    #create month/day for time of year \n",
    "    df_total['month_day'] = df_total['Date'].dt.month + df_total['Date'].map(lambda x: .5 if x.day > 15 else 0)\n",
    "    \n",
    "    ## drop useless columns\n",
    "    ## different for train and test dataset because test data doesn't include 'NumMosquitos' column\n",
    "    ## and test data has \"Id\" column that need to be dropped\n",
    "    \n",
    "    ### for train dataset\n",
    "#     df_total = df_total.drop(['Date','Address','Block','Street','Trap','AddressNumberAndStreet',\\\n",
    "#               'AddressAccuracy','weather_station','Depart','CodeSum','Depth',\\\n",
    "#               'Water1','SnowFall','Sunrise','Sunset','NumMosquitos'],axis=1)\n",
    "                 \n",
    "                 # NumMosquitos and CodeSum may still helpful (test data doesn't include 'NumMosquitos' column)\n",
    "    \n",
    "    ### for test dataset\n",
    "    df_total = df_total.drop(['Id','Date','Address','Block','Street','Trap','AddressNumberAndStreet',\\\n",
    "               'AddressAccuracy','weather_station','Depart','CodeSum','Depth',\\\n",
    "               'Water1','SnowFall','Sunrise','Sunset'],axis=1)\n",
    "    \n",
    "    \n",
    "    ## deal with the missing value of the useful columns\n",
    "    mask5 = (df_total.PrecipTotal == '  T')| (df_total.PrecipTotal =='M')\n",
    "    mask6 = df_total.WetBulb == 'M'\n",
    "    mask7 = df_total.StnPressure == 'M'\n",
    "    df_total.loc[mask5,'PrecipTotal'] = 0.00\n",
    "    df_total.loc[mask6,'WetBulb'] = round((df_total[df_total.WetBulb!='M']['WetBulb']).astype('int').mean())\n",
    "    df_total.loc[mask7,'StnPressure'] = round((df_total[df_total.StnPressure!='M']['StnPressure']).astype('float').mean(),2)\n",
    "    \n",
    "    ## change the datatype to correct one\n",
    "    df_total[['Tavg','WetBulb','Heat','Cool']] = df_total[['Tavg','WetBulb','Heat','Cool']].astype(int)\n",
    "    df_total[['PrecipTotal','StnPressure','SeaLevel','AvgSpeed']] = \\\n",
    "    df_total[['PrecipTotal','StnPressure','SeaLevel','AvgSpeed']].astype(float)\n",
    "    \n",
    "    #computer rolling averages \n",
    "    for i in [3,5,10,14,21]: #set intervals for rolling average calculation\n",
    "        for j in ['Tmax', 'Tmin', 'Tavg', 'DewPoint', 'WetBulb', 'Heat', 'Cool',    #columns to compute rolling averages for\n",
    "                  'PrecipTotal', 'StnPressure', 'SeaLevel','ResultSpeed', 'ResultDir', 'AvgSpeed']:\n",
    "            df_total[j + str(i)] = df_total[j].rolling(window=i, min_periods=int(i/5)).mean() #create column with interval for each computation\n",
    "                                                                                #min_periods allows for computing these and not getting NaN values\n",
    "                                                                                #for reasonable amount of missing data\n",
    "    #fill na's\n",
    "    df_total.fillna(method='backfill', inplace=True)\n",
    "\n",
    "    \n",
    "    \n",
    "    # create polynomial features\n",
    "    \n",
    "    ## for train dataset\n",
    "#     y = df_total['WnvPresent']\n",
    "#     X = df_total.drop('WnvPresent',axis=1)\n",
    "#     X_train, X_test, y_train, y_test = train_test_split(X, y, stratify=y, random_state=42, test_size=0.15)\n",
    "#     poly = PolynomialFeatures(include_bias=False,degree=2)\n",
    "#     X_train_poly = poly.fit_transform(X_train)\n",
    "#     X_test_poly = poly.transform(X_test)\n",
    "#     X_train=pd.DataFrame(X_train_poly,columns=poly.get_feature_names(X_train.columns))\n",
    "#     X_test=pd.DataFrame(X_test_poly,columns=poly.get_feature_names(X_test.columns))\n",
    "    \n",
    "    ## for test dataset\n",
    "#     poly = PolynomialFeatures(include_bias=False,degree=2)\n",
    "#     df_total_poly = poly.fit_transform(df_total)\n",
    "#     df_total=pd.DataFrame(df_total_poly,columns=poly.get_feature_names(df_total.columns))\n",
    "    \n",
    "    # return cleaned dataframe\n",
    "    \n",
    "    ## for train dataset, return X_train and X_test data\n",
    "#     return X_train, X_test\n",
    "    \n",
    "    ## for test dataset, return df_total\n",
    "    return df_total"
   ]
  },
  {
   "cell_type": "code",
   "execution_count": 8,
   "metadata": {},
   "outputs": [
    {
     "data": {
      "text/plain": [
       "(116293, 84)"
      ]
     },
     "execution_count": 8,
     "metadata": {},
     "output_type": "execute_result"
    }
   ],
   "source": [
    "test_clean = clean_test_data(test)\n",
    "test_clean.shape"
   ]
  },
  {
   "cell_type": "code",
   "execution_count": 9,
   "metadata": {},
   "outputs": [
    {
     "data": {
      "text/plain": [
       "(8610, 86)"
      ]
     },
     "execution_count": 9,
     "metadata": {},
     "output_type": "execute_result"
    }
   ],
   "source": [
    "train_clean = clean_train_data(df)\n",
    "train_clean.shape"
   ]
  },
  {
   "cell_type": "code",
   "execution_count": 10,
   "metadata": {
    "scrolled": false
   },
   "outputs": [
    {
     "data": {
      "text/plain": [
       "0    0.946922\n",
       "1    0.053078\n",
       "Name: WnvPresent, dtype: float64"
      ]
     },
     "execution_count": 10,
     "metadata": {},
     "output_type": "execute_result"
    }
   ],
   "source": [
    "train_clean['WnvPresent'].value_counts(normalize=True)"
   ]
  },
  {
   "cell_type": "markdown",
   "metadata": {},
   "source": [
    "# project nummosquitos"
   ]
  },
  {
   "cell_type": "code",
   "execution_count": 11,
   "metadata": {},
   "outputs": [],
   "source": [
    "col_list = ['Species', 'NumMosquitos_sum', 'WnvPresent']\n",
    "numerical_columns = [cols for cols in train_clean.columns if cols not in col_list]\n",
    "object_columns = ['Species']"
   ]
  },
  {
   "cell_type": "code",
   "execution_count": 27,
   "metadata": {},
   "outputs": [],
   "source": [
    "# Class for selecting multiple features    \n",
    "class SampleExtractor(BaseEstimator, TransformerMixin):\n",
    "    \"\"\"Takes in variable names as a **list**\"\"\"\n",
    "    def __init__(self, vars):\n",
    "        self.vars = vars  # e.g. pass in a column names to extract\n",
    "    def transform(self, X, y=None):\n",
    "        if len(self.vars) > 1:\n",
    "            return pd.DataFrame(X[self.vars]) # where the actual feature extraction happens\n",
    "        else:\n",
    "            return pd.Series(X[self.vars[0]])\n",
    "    def fit(self, X, y=None):\n",
    "        return self  # generally does nothing"
   ]
  },
  {
   "cell_type": "code",
   "execution_count": 28,
   "metadata": {},
   "outputs": [],
   "source": [
    "#create x and y columns for num mosquitos\n",
    "X_mos = train_clean[[cols for cols in train_clean.columns if cols != 'NumMosquitos_sum' and cols != 'WnvPresent']]\n",
    "y_mos = train_clean['NumMosquitos_sum']\n",
    "\n",
    "#TTS\n",
    "X_train_mos, X_test_mos, y_train_mos, y_test_mos = train_test_split(X_mos, y_mos, random_state=40, test_size=0.15)"
   ]
  },
  {
   "cell_type": "code",
   "execution_count": 29,
   "metadata": {},
   "outputs": [],
   "source": [
    "ss= StandardScaler()\n",
    "cvec = CountVectorizer()\n",
    "\n",
    "numerical_pipe = Pipeline([\n",
    "    ('selector', SampleExtractor(numerical_columns)),\n",
    "    ('ss', ss)\n",
    "])\n",
    "\n",
    "object_pipe = Pipeline([\n",
    "    ('selector', SampleExtractor(object_columns)),\n",
    "    ('cvec', cvec)\n",
    "])\n",
    "\n",
    "# Merge pipeline\n",
    "\n",
    "merge = FeatureUnion([\n",
    "    ('numerical', numerical_pipe),\n",
    "    ('object', object_pipe)\n",
    "])"
   ]
  },
  {
   "cell_type": "code",
   "execution_count": 36,
   "metadata": {},
   "outputs": [
    {
     "name": "stdout",
     "output_type": "stream",
     "text": [
      "best cv score 0.4608321954209913\n",
      "best paramas {'xgb__learning_rate': 0.1, 'xgb__max_depth': 5, 'xgb__n_estimators': 175}\n",
      "test score 0.7590571819787055\n"
     ]
    }
   ],
   "source": [
    "pip_xgb = Pipeline([\n",
    "    ('merger', merge),\n",
    "    ('xgb', xgb.XGBRegressor())\n",
    "    \n",
    "])\n",
    "\n",
    "params_xgb = {\n",
    "    'xgb__n_estimators':[150, 175, 200],\n",
    "    'xgb__learning_rate': [.01, .1, .15],\n",
    "    'xgb__max_depth': [3,5,7]\n",
    "}\n",
    "gs2 = GridSearchCV(pip_xgb,param_grid=params_xgb)\n",
    "gs2.fit(X_train_mos,y_train_mos)\n",
    "print('best cv score', gs2.best_score_)\n",
    "print('best paramas', gs2.best_params_)\n",
    "print('test score', gs2.score(X_test_mos, y_test_mos))"
   ]
  },
  {
   "cell_type": "code",
   "execution_count": 37,
   "metadata": {},
   "outputs": [
    {
     "data": {
      "text/plain": [
       "Pipeline(memory=None,\n",
       "     steps=[('merger', FeatureUnion(n_jobs=1,\n",
       "       transformer_list=[('numerical', Pipeline(memory=None,\n",
       "     steps=[('selector', SampleExtractor(vars=['Latitude', 'Longitude', 'Tmax', 'Tmin', 'Tavg', 'DewPoint', 'WetBulb', 'Heat', 'Cool', 'PrecipTotal', 'StnPressure', 'SeaLevel', 'ResultSpeed', 'Resul...\n",
       "       reg_alpha=0, reg_lambda=1, scale_pos_weight=1, seed=None,\n",
       "       silent=True, subsample=1))])"
      ]
     },
     "execution_count": 37,
     "metadata": {},
     "output_type": "execute_result"
    }
   ],
   "source": [
    "#fit model on all training data\n",
    "mos_model = gs2.best_estimator_\n",
    "mos_model.fit(X_mos, y_mos)"
   ]
  },
  {
   "cell_type": "code",
   "execution_count": 50,
   "metadata": {},
   "outputs": [
    {
     "ename": "NameError",
     "evalue": "name 'mos_model' is not defined",
     "output_type": "error",
     "traceback": [
      "\u001b[0;31m---------------------------------------------------------------------------\u001b[0m",
      "\u001b[0;31mNameError\u001b[0m                                 Traceback (most recent call last)",
      "\u001b[0;32m<ipython-input-50-d00b555dfaf8>\u001b[0m in \u001b[0;36m<module>\u001b[0;34m()\u001b[0m\n\u001b[1;32m      1\u001b[0m \u001b[0;31m#predict mosquito counts for test data\u001b[0m\u001b[0;34m\u001b[0m\u001b[0;34m\u001b[0m\u001b[0m\n\u001b[0;32m----> 2\u001b[0;31m \u001b[0mtest_clean\u001b[0m\u001b[0;34m[\u001b[0m\u001b[0;34m'project_mos'\u001b[0m\u001b[0;34m]\u001b[0m \u001b[0;34m=\u001b[0m \u001b[0mmos_model\u001b[0m\u001b[0;34m.\u001b[0m\u001b[0mpredict\u001b[0m\u001b[0;34m(\u001b[0m\u001b[0mtest_clean\u001b[0m\u001b[0;34m)\u001b[0m\u001b[0;34m\u001b[0m\u001b[0m\n\u001b[0m",
      "\u001b[0;31mNameError\u001b[0m: name 'mos_model' is not defined"
     ]
    }
   ],
   "source": [
    "#predict mosquito counts for test data\n",
    "test_clean['project_mos'] = mos_model.predict(test_clean)"
   ]
  },
  {
   "cell_type": "code",
   "execution_count": 40,
   "metadata": {},
   "outputs": [],
   "source": [
    "#predict mosquito counts for train data \n",
    "train_clean['project_mos'] = mos_model.predict(train_clean)"
   ]
  },
  {
   "cell_type": "code",
   "execution_count": 41,
   "metadata": {
    "scrolled": true
   },
   "outputs": [
    {
     "data": {
      "image/png": "[encoded data removed]",
      "text/plain": [
       "<matplotlib.figure.Figure at 0x10f766dd8>"
      ]
     },
     "metadata": {
      "image/png": {
       "height": 709,
       "width": 719
      }
     },
     "output_type": "display_data"
    }
   ],
   "source": [
    "#plot predicted counts and actual for train data b\n",
    "sns.jointplot('project_mos', 'NumMosquitos_sum', kind='reg', data= train_clean, size=10);"
   ]
  },
  {
   "cell_type": "code",
   "execution_count": 45,
   "metadata": {},
   "outputs": [],
   "source": [
    "modelfilename= 'mos_model.sav'"
   ]
  },
  {
   "cell_type": "code",
   "execution_count": 46,
   "metadata": {},
   "outputs": [],
   "source": [
    "pickle.dump(mos_model, open(modelfilename, 'wb'))"
   ]
  },
  {
   "cell_type": "code",
   "execution_count": 17,
   "metadata": {},
   "outputs": [],
   "source": [
    "loaded_model = pickle.load(open('mos_model.sav', 'rb'))"
   ]
  },
  {
   "cell_type": "code",
   "execution_count": 19,
   "metadata": {},
   "outputs": [
    {
     "data": {
      "text/plain": [
       "0.9250519701691257"
      ]
     },
     "execution_count": 19,
     "metadata": {},
     "output_type": "execute_result"
    }
   ],
   "source": [
    "loaded_model.score(X_test_mos, y_test_mos)"
   ]
  },
  {
   "cell_type": "code",
   "execution_count": 51,
   "metadata": {},
   "outputs": [],
   "source": [
    "#predict mosquito counts for test data\n",
    "test_clean['project_mos'] = loaded_model.predict(test_clean)"
   ]
  },
  {
   "cell_type": "code",
   "execution_count": 52,
   "metadata": {},
   "outputs": [],
   "source": [
    "#predict mosquito counts for train data \n",
    "train_clean['project_mos'] = loaded_model.predict(train_clean)"
   ]
  },
  {
   "cell_type": "markdown",
   "metadata": {},
   "source": [
    "### build the classficiation model"
   ]
  },
  {
   "cell_type": "code",
   "execution_count": 53,
   "metadata": {},
   "outputs": [
    {
     "data": {
      "text/plain": [
       "1    8153\n",
       "0    8153\n",
       "Name: WnvPresent, dtype: int64"
      ]
     },
     "execution_count": 53,
     "metadata": {},
     "output_type": "execute_result"
    }
   ],
   "source": [
    "from sklearn.utils import resample\n",
    "\n",
    "## Separate majority and minority classes\n",
    "df_majority = train_clean[train_clean.WnvPresent==0]\n",
    "df_minority = train_clean[train_clean.WnvPresent==1]\n",
    " \n",
    "## Upsample minority class\n",
    "df_minority_upsampled = resample(df_minority, \n",
    "                                 replace=True,     # sample with replacement\n",
    "                                 n_samples=8153,    # to match majority class\n",
    "                                 random_state=42) # reproducible results\n",
    " \n",
    "# Combine majority class with upsampled minority class\n",
    "df_upsampled = pd.concat([df_majority, df_minority_upsampled])\n",
    " \n",
    "# Display new class counts\n",
    "df_upsampled.WnvPresent.value_counts()"
   ]
  },
  {
   "cell_type": "code",
   "execution_count": 54,
   "metadata": {},
   "outputs": [
    {
     "data": {
      "text/html": [
       "<div>\n",
       "<style scoped>\n",
       "    .dataframe tbody tr th:only-of-type {\n",
       "        vertical-align: middle;\n",
       "    }\n",
       "\n",
       "    .dataframe tbody tr th {\n",
       "        vertical-align: top;\n",
       "    }\n",
       "\n",
       "    .dataframe thead th {\n",
       "        text-align: right;\n",
       "    }\n",
       "</style>\n",
       "<table border=\"1\" class=\"dataframe\">\n",
       "  <thead>\n",
       "    <tr style=\"text-align: right;\">\n",
       "      <th></th>\n",
       "      <th>Species</th>\n",
       "      <th>Latitude</th>\n",
       "      <th>Longitude</th>\n",
       "      <th>WnvPresent</th>\n",
       "      <th>Tmax</th>\n",
       "      <th>Tmin</th>\n",
       "      <th>Tavg</th>\n",
       "      <th>DewPoint</th>\n",
       "      <th>WetBulb</th>\n",
       "      <th>Heat</th>\n",
       "      <th>Cool</th>\n",
       "      <th>PrecipTotal</th>\n",
       "      <th>StnPressure</th>\n",
       "      <th>SeaLevel</th>\n",
       "      <th>ResultSpeed</th>\n",
       "      <th>ResultDir</th>\n",
       "      <th>AvgSpeed</th>\n",
       "      <th>days_after_spray</th>\n",
       "      <th>NumMosquitos_sum</th>\n",
       "      <th>ordinal_date</th>\n",
       "      <th>month_day</th>\n",
       "      <th>Tmax3</th>\n",
       "      <th>Tmin3</th>\n",
       "      <th>Tavg3</th>\n",
       "      <th>DewPoint3</th>\n",
       "      <th>WetBulb3</th>\n",
       "      <th>Heat3</th>\n",
       "      <th>Cool3</th>\n",
       "      <th>PrecipTotal3</th>\n",
       "      <th>StnPressure3</th>\n",
       "      <th>SeaLevel3</th>\n",
       "      <th>ResultSpeed3</th>\n",
       "      <th>ResultDir3</th>\n",
       "      <th>AvgSpeed3</th>\n",
       "      <th>Tmax5</th>\n",
       "      <th>Tmin5</th>\n",
       "      <th>Tavg5</th>\n",
       "      <th>DewPoint5</th>\n",
       "      <th>WetBulb5</th>\n",
       "      <th>Heat5</th>\n",
       "      <th>Cool5</th>\n",
       "      <th>PrecipTotal5</th>\n",
       "      <th>StnPressure5</th>\n",
       "      <th>SeaLevel5</th>\n",
       "      <th>ResultSpeed5</th>\n",
       "      <th>ResultDir5</th>\n",
       "      <th>AvgSpeed5</th>\n",
       "      <th>Tmax10</th>\n",
       "      <th>Tmin10</th>\n",
       "      <th>Tavg10</th>\n",
       "      <th>DewPoint10</th>\n",
       "      <th>WetBulb10</th>\n",
       "      <th>Heat10</th>\n",
       "      <th>Cool10</th>\n",
       "      <th>PrecipTotal10</th>\n",
       "      <th>StnPressure10</th>\n",
       "      <th>SeaLevel10</th>\n",
       "      <th>ResultSpeed10</th>\n",
       "      <th>ResultDir10</th>\n",
       "      <th>AvgSpeed10</th>\n",
       "      <th>Tmax14</th>\n",
       "      <th>Tmin14</th>\n",
       "      <th>Tavg14</th>\n",
       "      <th>DewPoint14</th>\n",
       "      <th>WetBulb14</th>\n",
       "      <th>Heat14</th>\n",
       "      <th>Cool14</th>\n",
       "      <th>PrecipTotal14</th>\n",
       "      <th>StnPressure14</th>\n",
       "      <th>SeaLevel14</th>\n",
       "      <th>ResultSpeed14</th>\n",
       "      <th>ResultDir14</th>\n",
       "      <th>AvgSpeed14</th>\n",
       "      <th>Tmax21</th>\n",
       "      <th>Tmin21</th>\n",
       "      <th>Tavg21</th>\n",
       "      <th>DewPoint21</th>\n",
       "      <th>WetBulb21</th>\n",
       "      <th>Heat21</th>\n",
       "      <th>Cool21</th>\n",
       "      <th>PrecipTotal21</th>\n",
       "      <th>StnPressure21</th>\n",
       "      <th>SeaLevel21</th>\n",
       "      <th>ResultSpeed21</th>\n",
       "      <th>ResultDir21</th>\n",
       "      <th>AvgSpeed21</th>\n",
       "      <th>project_mos</th>\n",
       "    </tr>\n",
       "  </thead>\n",
       "  <tbody>\n",
       "    <tr>\n",
       "      <th>0</th>\n",
       "      <td>CULEX PIPIENS/RESTUANS</td>\n",
       "      <td>41.954690</td>\n",
       "      <td>-87.800991</td>\n",
       "      <td>0</td>\n",
       "      <td>88</td>\n",
       "      <td>60</td>\n",
       "      <td>74</td>\n",
       "      <td>58</td>\n",
       "      <td>65</td>\n",
       "      <td>0</td>\n",
       "      <td>9</td>\n",
       "      <td>0.0</td>\n",
       "      <td>29.39</td>\n",
       "      <td>30.11</td>\n",
       "      <td>5.8</td>\n",
       "      <td>18</td>\n",
       "      <td>6.5</td>\n",
       "      <td>0</td>\n",
       "      <td>1.0</td>\n",
       "      <td>732825</td>\n",
       "      <td>5.5</td>\n",
       "      <td>88.0</td>\n",
       "      <td>60.0</td>\n",
       "      <td>74.0</td>\n",
       "      <td>58.0</td>\n",
       "      <td>65.0</td>\n",
       "      <td>0.0</td>\n",
       "      <td>9.0</td>\n",
       "      <td>0.0</td>\n",
       "      <td>29.39</td>\n",
       "      <td>30.11</td>\n",
       "      <td>5.8</td>\n",
       "      <td>18.0</td>\n",
       "      <td>6.5</td>\n",
       "      <td>88.0</td>\n",
       "      <td>60.0</td>\n",
       "      <td>74.0</td>\n",
       "      <td>58.0</td>\n",
       "      <td>65.0</td>\n",
       "      <td>0.0</td>\n",
       "      <td>9.0</td>\n",
       "      <td>0.0</td>\n",
       "      <td>29.39</td>\n",
       "      <td>30.11</td>\n",
       "      <td>5.8</td>\n",
       "      <td>18.0</td>\n",
       "      <td>6.5</td>\n",
       "      <td>88.0</td>\n",
       "      <td>60.0</td>\n",
       "      <td>74.0</td>\n",
       "      <td>58.0</td>\n",
       "      <td>65.0</td>\n",
       "      <td>0.0</td>\n",
       "      <td>9.0</td>\n",
       "      <td>0.0</td>\n",
       "      <td>29.39</td>\n",
       "      <td>30.11</td>\n",
       "      <td>5.8</td>\n",
       "      <td>18.0</td>\n",
       "      <td>6.5</td>\n",
       "      <td>88.0</td>\n",
       "      <td>60.0</td>\n",
       "      <td>74.0</td>\n",
       "      <td>58.0</td>\n",
       "      <td>65.0</td>\n",
       "      <td>0.0</td>\n",
       "      <td>9.0</td>\n",
       "      <td>0.0</td>\n",
       "      <td>29.39</td>\n",
       "      <td>30.11</td>\n",
       "      <td>5.8</td>\n",
       "      <td>18.0</td>\n",
       "      <td>6.5</td>\n",
       "      <td>88.0</td>\n",
       "      <td>60.0</td>\n",
       "      <td>74.0</td>\n",
       "      <td>58.0</td>\n",
       "      <td>65.0</td>\n",
       "      <td>0.0</td>\n",
       "      <td>9.0</td>\n",
       "      <td>0.0</td>\n",
       "      <td>29.39</td>\n",
       "      <td>30.11</td>\n",
       "      <td>5.8</td>\n",
       "      <td>18.0</td>\n",
       "      <td>6.5</td>\n",
       "      <td>11.576159</td>\n",
       "    </tr>\n",
       "    <tr>\n",
       "      <th>1</th>\n",
       "      <td>CULEX RESTUANS</td>\n",
       "      <td>41.954690</td>\n",
       "      <td>-87.800991</td>\n",
       "      <td>0</td>\n",
       "      <td>88</td>\n",
       "      <td>60</td>\n",
       "      <td>74</td>\n",
       "      <td>58</td>\n",
       "      <td>65</td>\n",
       "      <td>0</td>\n",
       "      <td>9</td>\n",
       "      <td>0.0</td>\n",
       "      <td>29.39</td>\n",
       "      <td>30.11</td>\n",
       "      <td>5.8</td>\n",
       "      <td>18</td>\n",
       "      <td>6.5</td>\n",
       "      <td>0</td>\n",
       "      <td>1.0</td>\n",
       "      <td>732825</td>\n",
       "      <td>5.5</td>\n",
       "      <td>88.0</td>\n",
       "      <td>60.0</td>\n",
       "      <td>74.0</td>\n",
       "      <td>58.0</td>\n",
       "      <td>65.0</td>\n",
       "      <td>0.0</td>\n",
       "      <td>9.0</td>\n",
       "      <td>0.0</td>\n",
       "      <td>29.39</td>\n",
       "      <td>30.11</td>\n",
       "      <td>5.8</td>\n",
       "      <td>18.0</td>\n",
       "      <td>6.5</td>\n",
       "      <td>88.0</td>\n",
       "      <td>60.0</td>\n",
       "      <td>74.0</td>\n",
       "      <td>58.0</td>\n",
       "      <td>65.0</td>\n",
       "      <td>0.0</td>\n",
       "      <td>9.0</td>\n",
       "      <td>0.0</td>\n",
       "      <td>29.39</td>\n",
       "      <td>30.11</td>\n",
       "      <td>5.8</td>\n",
       "      <td>18.0</td>\n",
       "      <td>6.5</td>\n",
       "      <td>88.0</td>\n",
       "      <td>60.0</td>\n",
       "      <td>74.0</td>\n",
       "      <td>58.0</td>\n",
       "      <td>65.0</td>\n",
       "      <td>0.0</td>\n",
       "      <td>9.0</td>\n",
       "      <td>0.0</td>\n",
       "      <td>29.39</td>\n",
       "      <td>30.11</td>\n",
       "      <td>5.8</td>\n",
       "      <td>18.0</td>\n",
       "      <td>6.5</td>\n",
       "      <td>88.0</td>\n",
       "      <td>60.0</td>\n",
       "      <td>74.0</td>\n",
       "      <td>58.0</td>\n",
       "      <td>65.0</td>\n",
       "      <td>0.0</td>\n",
       "      <td>9.0</td>\n",
       "      <td>0.0</td>\n",
       "      <td>29.39</td>\n",
       "      <td>30.11</td>\n",
       "      <td>5.8</td>\n",
       "      <td>18.0</td>\n",
       "      <td>6.5</td>\n",
       "      <td>88.0</td>\n",
       "      <td>60.0</td>\n",
       "      <td>74.0</td>\n",
       "      <td>58.0</td>\n",
       "      <td>65.0</td>\n",
       "      <td>0.0</td>\n",
       "      <td>9.0</td>\n",
       "      <td>0.0</td>\n",
       "      <td>29.39</td>\n",
       "      <td>30.11</td>\n",
       "      <td>5.8</td>\n",
       "      <td>18.0</td>\n",
       "      <td>6.5</td>\n",
       "      <td>4.411975</td>\n",
       "    </tr>\n",
       "    <tr>\n",
       "      <th>2</th>\n",
       "      <td>CULEX RESTUANS</td>\n",
       "      <td>41.994991</td>\n",
       "      <td>-87.769279</td>\n",
       "      <td>0</td>\n",
       "      <td>88</td>\n",
       "      <td>60</td>\n",
       "      <td>74</td>\n",
       "      <td>58</td>\n",
       "      <td>65</td>\n",
       "      <td>0</td>\n",
       "      <td>9</td>\n",
       "      <td>0.0</td>\n",
       "      <td>29.39</td>\n",
       "      <td>30.11</td>\n",
       "      <td>5.8</td>\n",
       "      <td>18</td>\n",
       "      <td>6.5</td>\n",
       "      <td>0</td>\n",
       "      <td>1.0</td>\n",
       "      <td>732825</td>\n",
       "      <td>5.5</td>\n",
       "      <td>88.0</td>\n",
       "      <td>60.0</td>\n",
       "      <td>74.0</td>\n",
       "      <td>58.0</td>\n",
       "      <td>65.0</td>\n",
       "      <td>0.0</td>\n",
       "      <td>9.0</td>\n",
       "      <td>0.0</td>\n",
       "      <td>29.39</td>\n",
       "      <td>30.11</td>\n",
       "      <td>5.8</td>\n",
       "      <td>18.0</td>\n",
       "      <td>6.5</td>\n",
       "      <td>88.0</td>\n",
       "      <td>60.0</td>\n",
       "      <td>74.0</td>\n",
       "      <td>58.0</td>\n",
       "      <td>65.0</td>\n",
       "      <td>0.0</td>\n",
       "      <td>9.0</td>\n",
       "      <td>0.0</td>\n",
       "      <td>29.39</td>\n",
       "      <td>30.11</td>\n",
       "      <td>5.8</td>\n",
       "      <td>18.0</td>\n",
       "      <td>6.5</td>\n",
       "      <td>88.0</td>\n",
       "      <td>60.0</td>\n",
       "      <td>74.0</td>\n",
       "      <td>58.0</td>\n",
       "      <td>65.0</td>\n",
       "      <td>0.0</td>\n",
       "      <td>9.0</td>\n",
       "      <td>0.0</td>\n",
       "      <td>29.39</td>\n",
       "      <td>30.11</td>\n",
       "      <td>5.8</td>\n",
       "      <td>18.0</td>\n",
       "      <td>6.5</td>\n",
       "      <td>88.0</td>\n",
       "      <td>60.0</td>\n",
       "      <td>74.0</td>\n",
       "      <td>58.0</td>\n",
       "      <td>65.0</td>\n",
       "      <td>0.0</td>\n",
       "      <td>9.0</td>\n",
       "      <td>0.0</td>\n",
       "      <td>29.39</td>\n",
       "      <td>30.11</td>\n",
       "      <td>5.8</td>\n",
       "      <td>18.0</td>\n",
       "      <td>6.5</td>\n",
       "      <td>88.0</td>\n",
       "      <td>60.0</td>\n",
       "      <td>74.0</td>\n",
       "      <td>58.0</td>\n",
       "      <td>65.0</td>\n",
       "      <td>0.0</td>\n",
       "      <td>9.0</td>\n",
       "      <td>0.0</td>\n",
       "      <td>29.39</td>\n",
       "      <td>30.11</td>\n",
       "      <td>5.8</td>\n",
       "      <td>18.0</td>\n",
       "      <td>6.5</td>\n",
       "      <td>-0.369628</td>\n",
       "    </tr>\n",
       "    <tr>\n",
       "      <th>3</th>\n",
       "      <td>CULEX PIPIENS/RESTUANS</td>\n",
       "      <td>41.974089</td>\n",
       "      <td>-87.824812</td>\n",
       "      <td>0</td>\n",
       "      <td>88</td>\n",
       "      <td>60</td>\n",
       "      <td>74</td>\n",
       "      <td>58</td>\n",
       "      <td>65</td>\n",
       "      <td>0</td>\n",
       "      <td>9</td>\n",
       "      <td>0.0</td>\n",
       "      <td>29.39</td>\n",
       "      <td>30.11</td>\n",
       "      <td>5.8</td>\n",
       "      <td>18</td>\n",
       "      <td>6.5</td>\n",
       "      <td>0</td>\n",
       "      <td>1.0</td>\n",
       "      <td>732825</td>\n",
       "      <td>5.5</td>\n",
       "      <td>88.0</td>\n",
       "      <td>60.0</td>\n",
       "      <td>74.0</td>\n",
       "      <td>58.0</td>\n",
       "      <td>65.0</td>\n",
       "      <td>0.0</td>\n",
       "      <td>9.0</td>\n",
       "      <td>0.0</td>\n",
       "      <td>29.39</td>\n",
       "      <td>30.11</td>\n",
       "      <td>5.8</td>\n",
       "      <td>18.0</td>\n",
       "      <td>6.5</td>\n",
       "      <td>88.0</td>\n",
       "      <td>60.0</td>\n",
       "      <td>74.0</td>\n",
       "      <td>58.0</td>\n",
       "      <td>65.0</td>\n",
       "      <td>0.0</td>\n",
       "      <td>9.0</td>\n",
       "      <td>0.0</td>\n",
       "      <td>29.39</td>\n",
       "      <td>30.11</td>\n",
       "      <td>5.8</td>\n",
       "      <td>18.0</td>\n",
       "      <td>6.5</td>\n",
       "      <td>88.0</td>\n",
       "      <td>60.0</td>\n",
       "      <td>74.0</td>\n",
       "      <td>58.0</td>\n",
       "      <td>65.0</td>\n",
       "      <td>0.0</td>\n",
       "      <td>9.0</td>\n",
       "      <td>0.0</td>\n",
       "      <td>29.39</td>\n",
       "      <td>30.11</td>\n",
       "      <td>5.8</td>\n",
       "      <td>18.0</td>\n",
       "      <td>6.5</td>\n",
       "      <td>88.0</td>\n",
       "      <td>60.0</td>\n",
       "      <td>74.0</td>\n",
       "      <td>58.0</td>\n",
       "      <td>65.0</td>\n",
       "      <td>0.0</td>\n",
       "      <td>9.0</td>\n",
       "      <td>0.0</td>\n",
       "      <td>29.39</td>\n",
       "      <td>30.11</td>\n",
       "      <td>5.8</td>\n",
       "      <td>18.0</td>\n",
       "      <td>6.5</td>\n",
       "      <td>88.0</td>\n",
       "      <td>60.0</td>\n",
       "      <td>74.0</td>\n",
       "      <td>58.0</td>\n",
       "      <td>65.0</td>\n",
       "      <td>0.0</td>\n",
       "      <td>9.0</td>\n",
       "      <td>0.0</td>\n",
       "      <td>29.39</td>\n",
       "      <td>30.11</td>\n",
       "      <td>5.8</td>\n",
       "      <td>18.0</td>\n",
       "      <td>6.5</td>\n",
       "      <td>14.602871</td>\n",
       "    </tr>\n",
       "    <tr>\n",
       "      <th>4</th>\n",
       "      <td>CULEX RESTUANS</td>\n",
       "      <td>41.974089</td>\n",
       "      <td>-87.824812</td>\n",
       "      <td>0</td>\n",
       "      <td>88</td>\n",
       "      <td>60</td>\n",
       "      <td>74</td>\n",
       "      <td>58</td>\n",
       "      <td>65</td>\n",
       "      <td>0</td>\n",
       "      <td>9</td>\n",
       "      <td>0.0</td>\n",
       "      <td>29.39</td>\n",
       "      <td>30.11</td>\n",
       "      <td>5.8</td>\n",
       "      <td>18</td>\n",
       "      <td>6.5</td>\n",
       "      <td>0</td>\n",
       "      <td>4.0</td>\n",
       "      <td>732825</td>\n",
       "      <td>5.5</td>\n",
       "      <td>88.0</td>\n",
       "      <td>60.0</td>\n",
       "      <td>74.0</td>\n",
       "      <td>58.0</td>\n",
       "      <td>65.0</td>\n",
       "      <td>0.0</td>\n",
       "      <td>9.0</td>\n",
       "      <td>0.0</td>\n",
       "      <td>29.39</td>\n",
       "      <td>30.11</td>\n",
       "      <td>5.8</td>\n",
       "      <td>18.0</td>\n",
       "      <td>6.5</td>\n",
       "      <td>88.0</td>\n",
       "      <td>60.0</td>\n",
       "      <td>74.0</td>\n",
       "      <td>58.0</td>\n",
       "      <td>65.0</td>\n",
       "      <td>0.0</td>\n",
       "      <td>9.0</td>\n",
       "      <td>0.0</td>\n",
       "      <td>29.39</td>\n",
       "      <td>30.11</td>\n",
       "      <td>5.8</td>\n",
       "      <td>18.0</td>\n",
       "      <td>6.5</td>\n",
       "      <td>88.0</td>\n",
       "      <td>60.0</td>\n",
       "      <td>74.0</td>\n",
       "      <td>58.0</td>\n",
       "      <td>65.0</td>\n",
       "      <td>0.0</td>\n",
       "      <td>9.0</td>\n",
       "      <td>0.0</td>\n",
       "      <td>29.39</td>\n",
       "      <td>30.11</td>\n",
       "      <td>5.8</td>\n",
       "      <td>18.0</td>\n",
       "      <td>6.5</td>\n",
       "      <td>88.0</td>\n",
       "      <td>60.0</td>\n",
       "      <td>74.0</td>\n",
       "      <td>58.0</td>\n",
       "      <td>65.0</td>\n",
       "      <td>0.0</td>\n",
       "      <td>9.0</td>\n",
       "      <td>0.0</td>\n",
       "      <td>29.39</td>\n",
       "      <td>30.11</td>\n",
       "      <td>5.8</td>\n",
       "      <td>18.0</td>\n",
       "      <td>6.5</td>\n",
       "      <td>88.0</td>\n",
       "      <td>60.0</td>\n",
       "      <td>74.0</td>\n",
       "      <td>58.0</td>\n",
       "      <td>65.0</td>\n",
       "      <td>0.0</td>\n",
       "      <td>9.0</td>\n",
       "      <td>0.0</td>\n",
       "      <td>29.39</td>\n",
       "      <td>30.11</td>\n",
       "      <td>5.8</td>\n",
       "      <td>18.0</td>\n",
       "      <td>6.5</td>\n",
       "      <td>6.478076</td>\n",
       "    </tr>\n",
       "  </tbody>\n",
       "</table>\n",
       "</div>"
      ],
      "text/plain": [
       "                  Species   Latitude  Longitude  WnvPresent  Tmax  Tmin  Tavg  \\\n",
       "0  CULEX PIPIENS/RESTUANS  41.954690 -87.800991           0    88    60    74   \n",
       "1          CULEX RESTUANS  41.954690 -87.800991           0    88    60    74   \n",
       "2          CULEX RESTUANS  41.994991 -87.769279           0    88    60    74   \n",
       "3  CULEX PIPIENS/RESTUANS  41.974089 -87.824812           0    88    60    74   \n",
       "4          CULEX RESTUANS  41.974089 -87.824812           0    88    60    74   \n",
       "\n",
       "   DewPoint  WetBulb  Heat  Cool  PrecipTotal  StnPressure  SeaLevel  \\\n",
       "0        58       65     0     9          0.0        29.39     30.11   \n",
       "1        58       65     0     9          0.0        29.39     30.11   \n",
       "2        58       65     0     9          0.0        29.39     30.11   \n",
       "3        58       65     0     9          0.0        29.39     30.11   \n",
       "4        58       65     0     9          0.0        29.39     30.11   \n",
       "\n",
       "   ResultSpeed  ResultDir  AvgSpeed  days_after_spray  NumMosquitos_sum  \\\n",
       "0          5.8         18       6.5                 0               1.0   \n",
       "1          5.8         18       6.5                 0               1.0   \n",
       "2          5.8         18       6.5                 0               1.0   \n",
       "3          5.8         18       6.5                 0               1.0   \n",
       "4          5.8         18       6.5                 0               4.0   \n",
       "\n",
       "   ordinal_date  month_day  Tmax3  Tmin3  Tavg3  DewPoint3  WetBulb3  Heat3  \\\n",
       "0        732825        5.5   88.0   60.0   74.0       58.0      65.0    0.0   \n",
       "1        732825        5.5   88.0   60.0   74.0       58.0      65.0    0.0   \n",
       "2        732825        5.5   88.0   60.0   74.0       58.0      65.0    0.0   \n",
       "3        732825        5.5   88.0   60.0   74.0       58.0      65.0    0.0   \n",
       "4        732825        5.5   88.0   60.0   74.0       58.0      65.0    0.0   \n",
       "\n",
       "   Cool3  PrecipTotal3  StnPressure3  SeaLevel3  ResultSpeed3  ResultDir3  \\\n",
       "0    9.0           0.0         29.39      30.11           5.8        18.0   \n",
       "1    9.0           0.0         29.39      30.11           5.8        18.0   \n",
       "2    9.0           0.0         29.39      30.11           5.8        18.0   \n",
       "3    9.0           0.0         29.39      30.11           5.8        18.0   \n",
       "4    9.0           0.0         29.39      30.11           5.8        18.0   \n",
       "\n",
       "   AvgSpeed3  Tmax5  Tmin5  Tavg5  DewPoint5  WetBulb5  Heat5  Cool5  \\\n",
       "0        6.5   88.0   60.0   74.0       58.0      65.0    0.0    9.0   \n",
       "1        6.5   88.0   60.0   74.0       58.0      65.0    0.0    9.0   \n",
       "2        6.5   88.0   60.0   74.0       58.0      65.0    0.0    9.0   \n",
       "3        6.5   88.0   60.0   74.0       58.0      65.0    0.0    9.0   \n",
       "4        6.5   88.0   60.0   74.0       58.0      65.0    0.0    9.0   \n",
       "\n",
       "   PrecipTotal5  StnPressure5  SeaLevel5  ResultSpeed5  ResultDir5  AvgSpeed5  \\\n",
       "0           0.0         29.39      30.11           5.8        18.0        6.5   \n",
       "1           0.0         29.39      30.11           5.8        18.0        6.5   \n",
       "2           0.0         29.39      30.11           5.8        18.0        6.5   \n",
       "3           0.0         29.39      30.11           5.8        18.0        6.5   \n",
       "4           0.0         29.39      30.11           5.8        18.0        6.5   \n",
       "\n",
       "   Tmax10  Tmin10  Tavg10  DewPoint10  WetBulb10  Heat10  Cool10  \\\n",
       "0    88.0    60.0    74.0        58.0       65.0     0.0     9.0   \n",
       "1    88.0    60.0    74.0        58.0       65.0     0.0     9.0   \n",
       "2    88.0    60.0    74.0        58.0       65.0     0.0     9.0   \n",
       "3    88.0    60.0    74.0        58.0       65.0     0.0     9.0   \n",
       "4    88.0    60.0    74.0        58.0       65.0     0.0     9.0   \n",
       "\n",
       "   PrecipTotal10  StnPressure10  SeaLevel10  ResultSpeed10  ResultDir10  \\\n",
       "0            0.0          29.39       30.11            5.8         18.0   \n",
       "1            0.0          29.39       30.11            5.8         18.0   \n",
       "2            0.0          29.39       30.11            5.8         18.0   \n",
       "3            0.0          29.39       30.11            5.8         18.0   \n",
       "4            0.0          29.39       30.11            5.8         18.0   \n",
       "\n",
       "   AvgSpeed10  Tmax14  Tmin14  Tavg14  DewPoint14  WetBulb14  Heat14  Cool14  \\\n",
       "0         6.5    88.0    60.0    74.0        58.0       65.0     0.0     9.0   \n",
       "1         6.5    88.0    60.0    74.0        58.0       65.0     0.0     9.0   \n",
       "2         6.5    88.0    60.0    74.0        58.0       65.0     0.0     9.0   \n",
       "3         6.5    88.0    60.0    74.0        58.0       65.0     0.0     9.0   \n",
       "4         6.5    88.0    60.0    74.0        58.0       65.0     0.0     9.0   \n",
       "\n",
       "   PrecipTotal14  StnPressure14  SeaLevel14  ResultSpeed14  ResultDir14  \\\n",
       "0            0.0          29.39       30.11            5.8         18.0   \n",
       "1            0.0          29.39       30.11            5.8         18.0   \n",
       "2            0.0          29.39       30.11            5.8         18.0   \n",
       "3            0.0          29.39       30.11            5.8         18.0   \n",
       "4            0.0          29.39       30.11            5.8         18.0   \n",
       "\n",
       "   AvgSpeed14  Tmax21  Tmin21  Tavg21  DewPoint21  WetBulb21  Heat21  Cool21  \\\n",
       "0         6.5    88.0    60.0    74.0        58.0       65.0     0.0     9.0   \n",
       "1         6.5    88.0    60.0    74.0        58.0       65.0     0.0     9.0   \n",
       "2         6.5    88.0    60.0    74.0        58.0       65.0     0.0     9.0   \n",
       "3         6.5    88.0    60.0    74.0        58.0       65.0     0.0     9.0   \n",
       "4         6.5    88.0    60.0    74.0        58.0       65.0     0.0     9.0   \n",
       "\n",
       "   PrecipTotal21  StnPressure21  SeaLevel21  ResultSpeed21  ResultDir21  \\\n",
       "0            0.0          29.39       30.11            5.8         18.0   \n",
       "1            0.0          29.39       30.11            5.8         18.0   \n",
       "2            0.0          29.39       30.11            5.8         18.0   \n",
       "3            0.0          29.39       30.11            5.8         18.0   \n",
       "4            0.0          29.39       30.11            5.8         18.0   \n",
       "\n",
       "   AvgSpeed21  project_mos  \n",
       "0         6.5    11.576159  \n",
       "1         6.5     4.411975  \n",
       "2         6.5    -0.369628  \n",
       "3         6.5    14.602871  \n",
       "4         6.5     6.478076  "
      ]
     },
     "execution_count": 54,
     "metadata": {},
     "output_type": "execute_result"
    }
   ],
   "source": [
    "df_upsampled.head()"
   ]
  },
  {
   "cell_type": "code",
   "execution_count": 55,
   "metadata": {},
   "outputs": [],
   "source": [
    "y = df_upsampled['WnvPresent']\n",
    "X = df_upsampled.drop(['WnvPresent', 'NumMosquitos_sum'],axis=1)\n",
    "X_train, X_test, y_train, y_test = train_test_split(X, y, random_state=42, stratify=y, test_size=0.15)"
   ]
  },
  {
   "cell_type": "code",
   "execution_count": null,
   "metadata": {},
   "outputs": [],
   "source": [
    "# random forest is OK\n",
    "pip1 = Pipeline([\n",
    "    ('merger', merge),\n",
    "    ('rf', RandomForestClassifier())\n",
    "    \n",
    "])\n",
    "params1 = {\n",
    "    'rf__n_estimators':[5,10,20],\n",
    "    'rf__max_features': [\"auto\",\"sqrt\",\"log2\"],\n",
    "    'rf__max_depth': [None,10,20]\n",
    "}\n",
    "gs3 = GridSearchCV(pip1,param_grid=params1)\n",
    "gs3.fit(X_train,y_train)\n",
    "print('best cv score', gs3.best_score_)\n",
    "print('best paramas', gs3.best_params_)\n",
    "print('test score', gs3.score(X_test, y_test))"
   ]
  },
  {
   "cell_type": "code",
   "execution_count": null,
   "metadata": {},
   "outputs": [],
   "source": [
    "# create a confusion matrix\n",
    "y_hat = gs3.predict(X_test)\n",
    "confusion_matrix(y_test,y_hat)"
   ]
  },
  {
   "cell_type": "code",
   "execution_count": 58,
   "metadata": {},
   "outputs": [
    {
     "data": {
      "image/png": "[encoded data removed]",
      "text/plain": [
       "<matplotlib.figure.Figure at 0x111e8e2b0>"
      ]
     },
     "metadata": {
      "image/png": {
       "height": 560,
       "width": 680
      }
     },
     "output_type": "display_data"
    }
   ],
   "source": [
    "y_pred = gs3.predict(X_test)\n",
    "FPR, TPR, threshold = roc_curve(y_test, y_pred)\n",
    "ROC_AUC = auc(FPR, TPR)\n",
    "\n",
    "plt.figure(figsize=[11,9])\n",
    "plt.plot(FPR, TPR, label='ROC curve (area = %0.2f)' % ROC_AUC, linewidth=4)\n",
    "plt.plot([0, 1], [0, 1], 'k--', linewidth=4)\n",
    "plt.xlim([0.0, 1.0])\n",
    "plt.ylim([0.0, 1.0])\n",
    "plt.xlabel('False Positive Rate (Recall)', fontsize=18)\n",
    "plt.ylabel('True Positive Rate (Precision)', fontsize=18)\n",
    "plt.title('LogReg for \"CKD\"', fontsize=18)\n",
    "plt.legend(loc=\"lower right\")\n",
    "plt.show()"
   ]
  },
  {
   "cell_type": "code",
   "execution_count": null,
   "metadata": {},
   "outputs": [],
   "source": [
    "gs3.fit(X, y)"
   ]
  },
  {
   "cell_type": "code",
   "execution_count": 59,
   "metadata": {
    "scrolled": true
   },
   "outputs": [
    {
     "data": {
      "text/plain": [
       "(116293, 85)"
      ]
     },
     "execution_count": 59,
     "metadata": {},
     "output_type": "execute_result"
    }
   ],
   "source": [
    "test_clean.shape"
   ]
  },
  {
   "cell_type": "code",
   "execution_count": 60,
   "metadata": {},
   "outputs": [],
   "source": [
    "test_pred = gs3.predict(test_clean)"
   ]
  },
  {
   "cell_type": "code",
   "execution_count": 61,
   "metadata": {},
   "outputs": [
    {
     "data": {
      "text/plain": [
       "(116293,)"
      ]
     },
     "execution_count": 61,
     "metadata": {},
     "output_type": "execute_result"
    }
   ],
   "source": [
    "test_pred.shape"
   ]
  },
  {
   "cell_type": "code",
   "execution_count": 62,
   "metadata": {},
   "outputs": [],
   "source": [
    "test_pred = pd.DataFrame(test_pred)"
   ]
  },
  {
   "cell_type": "code",
   "execution_count": 63,
   "metadata": {},
   "outputs": [],
   "source": [
    "test_pred['Id'] = [i for i in range(1,116294)]\n",
    "test_pred['WnvPresent'] = test_pred[0]"
   ]
  },
  {
   "cell_type": "code",
   "execution_count": 64,
   "metadata": {},
   "outputs": [],
   "source": [
    "test_pred.drop([0],axis=1,inplace=True)"
   ]
  },
  {
   "cell_type": "code",
   "execution_count": 65,
   "metadata": {},
   "outputs": [
    {
     "data": {
      "text/html": [
       "<div>\n",
       "<style scoped>\n",
       "    .dataframe tbody tr th:only-of-type {\n",
       "        vertical-align: middle;\n",
       "    }\n",
       "\n",
       "    .dataframe tbody tr th {\n",
       "        vertical-align: top;\n",
       "    }\n",
       "\n",
       "    .dataframe thead th {\n",
       "        text-align: right;\n",
       "    }\n",
       "</style>\n",
       "<table border=\"1\" class=\"dataframe\">\n",
       "  <thead>\n",
       "    <tr style=\"text-align: right;\">\n",
       "      <th></th>\n",
       "      <th>Id</th>\n",
       "      <th>WnvPresent</th>\n",
       "    </tr>\n",
       "  </thead>\n",
       "  <tbody>\n",
       "    <tr>\n",
       "      <th>116288</th>\n",
       "      <td>116289</td>\n",
       "      <td>0</td>\n",
       "    </tr>\n",
       "    <tr>\n",
       "      <th>116289</th>\n",
       "      <td>116290</td>\n",
       "      <td>0</td>\n",
       "    </tr>\n",
       "    <tr>\n",
       "      <th>116290</th>\n",
       "      <td>116291</td>\n",
       "      <td>0</td>\n",
       "    </tr>\n",
       "    <tr>\n",
       "      <th>116291</th>\n",
       "      <td>116292</td>\n",
       "      <td>0</td>\n",
       "    </tr>\n",
       "    <tr>\n",
       "      <th>116292</th>\n",
       "      <td>116293</td>\n",
       "      <td>0</td>\n",
       "    </tr>\n",
       "  </tbody>\n",
       "</table>\n",
       "</div>"
      ],
      "text/plain": [
       "            Id  WnvPresent\n",
       "116288  116289           0\n",
       "116289  116290           0\n",
       "116290  116291           0\n",
       "116291  116292           0\n",
       "116292  116293           0"
      ]
     },
     "execution_count": 65,
     "metadata": {},
     "output_type": "execute_result"
    }
   ],
   "source": [
    "test_pred.tail()"
   ]
  },
  {
   "cell_type": "code",
   "execution_count": 66,
   "metadata": {
    "scrolled": false
   },
   "outputs": [
    {
     "data": {
      "text/plain": [
       "0    116177\n",
       "1       116\n",
       "Name: WnvPresent, dtype: int64"
      ]
     },
     "execution_count": 66,
     "metadata": {},
     "output_type": "execute_result"
    }
   ],
   "source": [
    "test_pred['WnvPresent'].value_counts()"
   ]
  },
  {
   "cell_type": "code",
   "execution_count": 67,
   "metadata": {},
   "outputs": [],
   "source": [
    "test_pred.to_csv('test_pred_3.csv',index=False)"
   ]
  },
  {
   "cell_type": "code",
   "execution_count": null,
   "metadata": {},
   "outputs": [],
   "source": [
    "# train test split \n",
    "y = train_clean['WnvPresent']\n",
    "X = train_clean.drop(['WnvPresent', 'NumMosquitos'], axis=1)\n",
    "\n",
    "\n",
    "X_train, X_test, y_train, y_test = train_test_split(X, y,\n",
    "                                                    stratify = y,\n",
    "                                                    random_state=42)\n",
    "\n",
    "\n",
    "# Using RandomForestClassifier\n",
    "rfc = RandomForestClassifier(random_state=19)\n",
    "bbc = BalancedBaggingClassifier(base_estimator=rfc,\n",
    "                                random_state=10)\n",
    "bbc.fit(X_train,y_train)\n",
    "\n",
    "bbc_predict = bbc.predict(X_test)\n",
    "bbc_score = recall_score(y_test, bbc_predict)\n",
    "\n",
    "print (\"BBC Test Score:\", bbc_score)\n",
    "\n",
    "bbc_confusion = pd.DataFrame(np.array(confusion_matrix(y_test, bbc_predict)),\n",
    "                         index = ['is_not_abnormal', 'is_abnormal'],\n",
    "                        columns=['predicted_not_abnormal','predicted_abnormal'])\n",
    "bbc_confusion\n",
    "\n",
    "bbc_params = {\n",
    "    'n_estimators':np.arange(5,20),\n",
    "    'warm_start': [True, False]\n",
    "#     'max_samples': [1,2]\n",
    "#     'max_features': np.arange(1,10)\n",
    "}\n",
    "\n",
    "bbc_gs = GridSearchCV(bbc,\n",
    "                     param_grid=bbc_params,\n",
    "                     scoring='recall',\n",
    "                     cv = 10)\n",
    "\n",
    "bbc_gs.fit(X_train,y_train)\n",
    "bbc_gs_score = bbc_gs.score(X_test, y_test)\n",
    "\n",
    "print(\"Best Params: \", bbc_gs.best_params_)\n",
    "print (\"BBC Test Score:\", bbc_gs_score)"
   ]
  },
  {
   "cell_type": "markdown",
   "metadata": {},
   "source": [
    "## Clean and Predict test data set"
   ]
  },
  {
   "cell_type": "markdown",
   "metadata": {},
   "source": [
    "# additional models (optional)"
   ]
  },
  {
   "cell_type": "code",
   "execution_count": null,
   "metadata": {
    "scrolled": true
   },
   "outputs": [],
   "source": [
    "# svm\n",
    "gamma_range = [0.001]\n",
    "C_range = [1]\n",
    "kernel_range = ['rbf', 'sigmoid', 'linear', 'poly']\n",
    "\n",
    "params3 = dict(gamma=gamma_range, kernel=kernel_range, C=C_range)\n",
    "\n",
    "clf = svm.SVC()\n",
    "gs3 = GridSearchCV(clf, params3, scoring=\"accuracy\", verbose=0)\n",
    "gs3.fit(X_train,y_train)"
   ]
  },
  {
   "cell_type": "code",
   "execution_count": null,
   "metadata": {},
   "outputs": [],
   "source": [
    "print('best cv score', gs3.best_score_)\n",
    "print('best paramas', gs3.best_params_)\n",
    "print('test score', gs3.score(X_test, y_test))"
   ]
  },
  {
   "cell_type": "code",
   "execution_count": null,
   "metadata": {},
   "outputs": [],
   "source": [
    "# svm using unbalanced sample and use class_weight = 'WnvPresent' to penalize mistakes on the minority class \n",
    "# by an amount proportional to how under-represented it is.\n",
    "y = train_clean['WnvPresent']\n",
    "X = train_clean.drop('WnvPresent',axis=1)\n",
    "X_train, X_test, y_train, y_test = train_test_split(X, y, random_state=42, test_size=0.15)\n",
    "\n",
    "gamma_range = [0.001]\n",
    "C_range = [1]\n",
    "kernel_range = ['linear']\n",
    "class_weight=['balanced']\n",
    "\n",
    "params4 = dict(gamma=gamma_range, kernel=kernel_range, C=C_range, class_weight=class_weight)\n",
    "\n",
    "clf = svm.SVC()\n",
    "gs4 = GridSearchCV(clf, params4, scoring=\"accuracy\", verbose=0)\n",
    "gs4.fit(X_train,y_train)\n",
    "\n",
    "print('best cv score', gs4.best_score_)\n",
    "print('best paramas', gs4.best_params_)\n",
    "print('test score', gs4.score(X_test, y_test))"
   ]
  },
  {
   "cell_type": "code",
   "execution_count": null,
   "metadata": {},
   "outputs": [],
   "source": [
    "# logistic regression is bad?\n",
    "pip2 = Pipeline([\n",
    "    ('ss', StandardScaler()), \n",
    "    ('lr', LogisticRegression())\n",
    "])\n",
    "params2 = {\n",
    "    'lr__penalty':['l1','l2'],\n",
    "    'lr__C':[0.1,0.5,0.9]\n",
    "}\n",
    "gs2 = GridSearchCV(pip2,param_grid=params2)\n",
    "gs2.fit(X_train,y_train)\n",
    "print('best cv score', gs2.best_score_)\n",
    "print('best paramas', gs2.best_params_)\n",
    "print('test score', gs2.score(X_test, y_test))"
   ]
  },
  {
   "cell_type": "code",
   "execution_count": null,
   "metadata": {},
   "outputs": [],
   "source": [
    "# create a confusion matrix\n",
    "y_hat = gs2.predict(X_test)\n",
    "confusion_matrix(y_test,y_hat)"
   ]
  },
  {
   "cell_type": "code",
   "execution_count": null,
   "metadata": {},
   "outputs": [],
   "source": [
    "# FFNN using Tensorflow\n",
    "y = df_upsampled['WnvPresent']\n",
    "X = df_upsampled.drop('WnvPresent',axis=1)\n",
    "X_train, X_test, y_train, y_test = train_test_split(X, y, random_state=42, test_size=0.15)\n",
    "ss = StandardScaler()\n",
    "X_train = ss.fit_transform(X_train)\n",
    "X_test = ss.transform(X_test)"
   ]
  },
  {
   "cell_type": "code",
   "execution_count": null,
   "metadata": {},
   "outputs": [],
   "source": [
    "y_train = y_train.reshape(-1, 1)\n",
    "y_test = y_test.reshape(-1, 1)"
   ]
  },
  {
   "cell_type": "code",
   "execution_count": null,
   "metadata": {},
   "outputs": [],
   "source": [
    "X_train.shape"
   ]
  },
  {
   "cell_type": "code",
   "execution_count": null,
   "metadata": {},
   "outputs": [],
   "source": [
    "tf.reset_default_graph()\n",
    "\n",
    "X = tf.placeholder(dtype=tf.float32, shape=(None,X_train.shape[1]), name='X')\n",
    "y = tf.placeholder(dtype=tf.float32, shape=(None, 1), name='y')\n",
    "\n",
    "h1 = tf.layers.dense(X, 20, activation=tf.nn.relu, name='hidden1') # 20 features put into the layer\n",
    "h2 = tf.layers.dense(h1, 20, activation=tf.nn.relu, name='hidden2')\n",
    "h3 = tf.layers.dense(h2, 20, activation=tf.nn.relu, name='hidden3')\n",
    "h4 = tf.layers.dense(h3, 20, activation=tf.nn.relu, name='hidden4')\n",
    "\n",
    "y_hat = tf.layers.dense(h4, 1, activation=tf.nn.sigmoid, name='y_hat') # this is a binary classification problem\n",
    "\n",
    "loss = tf.losses.log_loss(y, y_hat)\n",
    "optimizer = tf.train.AdamOptimizer(.01) # adam do gradient descent: learning rate is little bit larger\n",
    "training_run = optimizer.minimize(loss)"
   ]
  },
  {
   "cell_type": "code",
   "execution_count": null,
   "metadata": {},
   "outputs": [],
   "source": [
    "saver = tf.train.Saver()"
   ]
  },
  {
   "cell_type": "code",
   "execution_count": null,
   "metadata": {
    "scrolled": true
   },
   "outputs": [],
   "source": [
    "init = tf.global_variables_initializer()\n",
    "train_errs=[]\n",
    "test_errs=[]\n",
    "with tf.Session() as sess:\n",
    "    init.run()\n",
    "    for epoch in range(1000):\n",
    "        sess.run(training_run, feed_dict={X: X_train, y: y_train})\n",
    "        \n",
    "        if epoch % 100 == 0:\n",
    "            train_loss = sess.run(loss, feed_dict={X: X_train, y: y_train})\n",
    "            train_errs.append(train_loss)\n",
    "            test_loss = sess.run(loss, feed_dict={X: X_test, y: y_test})\n",
    "            test_errs.append(test_loss)\n",
    "            print('epoch', epoch, 'Train loss', train_loss, 'Test loss', test_loss)\n",
    "    saver.save(sess, './Classfication.ckpt')"
   ]
  },
  {
   "cell_type": "code",
   "execution_count": null,
   "metadata": {
    "scrolled": true
   },
   "outputs": [],
   "source": [
    "# plot the learning curves\n",
    "plt.plot(train_errs, label = 'Train loss')\n",
    "plt.plot(test_errs, label = 'Test loss')\n",
    "plt.legend()"
   ]
  },
  {
   "cell_type": "code",
   "execution_count": null,
   "metadata": {},
   "outputs": [],
   "source": [
    "with tf.Session() as sess:\n",
    "    saver.restore(sess, './Classfication.ckpt')\n",
    "    pred = sess.run(y_hat, feed_dict={X:X_test}) # run the prediction layer"
   ]
  },
  {
   "cell_type": "code",
   "execution_count": null,
   "metadata": {},
   "outputs": [],
   "source": [
    "classes = (pred > .947).astype(int)\n",
    "metrics.accuracy_score(y_test, classes)"
   ]
  },
  {
   "cell_type": "code",
   "execution_count": null,
   "metadata": {},
   "outputs": [],
   "source": [
    "metrics.confusion_matrix(y_test, classes)"
   ]
  },
  {
   "cell_type": "code",
   "execution_count": null,
   "metadata": {},
   "outputs": [],
   "source": [
    "FPR, TPR, threshold = roc_curve(y_test, pred)\n",
    "ROC_AUC = auc(FPR, TPR)\n",
    "\n",
    "plt.figure(figsize=[11,9])\n",
    "plt.plot(FPR, TPR, label='ROC curve (area = %0.2f)' % ROC_AUC, linewidth=4)\n",
    "plt.plot([0, 1], [0, 1], 'k--', linewidth=4)\n",
    "plt.xlim([0.0, 1.0])\n",
    "plt.ylim([0.0, 1.0])\n",
    "plt.xlabel('False Positive Rate (Recall)', fontsize=18)\n",
    "plt.ylabel('True Positive Rate (Precision)', fontsize=18)\n",
    "plt.title('LogReg for \"CKD\"', fontsize=18)\n",
    "plt.legend(loc=\"lower right\")\n",
    "plt.show()"
   ]
  }
 ],
 "metadata": {
  "kernelspec": {
   "display_name": "Python [default]",
   "language": "python",
   "name": "python3"
  },
  "language_info": {
   "codemirror_mode": {
    "name": "ipython",
    "version": 3
   },
   "file_extension": ".py",
   "mimetype": "text/x-python",
   "name": "python",
   "nbconvert_exporter": "python",
   "pygments_lexer": "ipython3",
   "version": "3.6.4"
  }
 },
 "nbformat": 4,
 "nbformat_minor": 2
}
